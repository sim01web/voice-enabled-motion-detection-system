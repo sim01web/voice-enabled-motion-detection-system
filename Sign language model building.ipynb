{
 "cells": [
  {
   "cell_type": "code",
   "execution_count": 7,
   "id": "604d80d4",
   "metadata": {},
   "outputs": [],
   "source": [
    "\n",
    "import numpy \n",
    "import os\n",
    "from sklearn.model_selection import train_test_split \n",
    "from tensorflow.keras.utils import to_categorical as encode\n",
    "from tensorflow.keras.models import Sequential \n",
    "from tensorflow.keras.layers import LSTM, Dense,SimpleRNN\n"
   ]
  },
  {
   "cell_type": "markdown",
   "id": "db325180",
   "metadata": {},
   "source": [
    "#### creating paths"
   ]
  },
  {
   "cell_type": "code",
   "execution_count": 14,
   "id": "68310ce1",
   "metadata": {},
   "outputs": [],
   "source": [
    "\n",
    "address = os.path.join('newdata') \n",
    "\n",
    "signs = numpy.array(['salute','ok' ,'love you','come','Namsate','Gracious','You','Me'])\n",
    "\n",
    "videos,fps,home =30,30,30"
   ]
  },
  {
   "cell_type": "code",
   "execution_count": 16,
   "id": "f28e10c3",
   "metadata": {},
   "outputs": [],
   "source": [
    "enc = {l:n for n, l in enumerate(signs)}"
   ]
  },
  {
   "cell_type": "code",
   "execution_count": 17,
   "id": "76732a14",
   "metadata": {},
   "outputs": [
    {
     "data": {
      "text/plain": [
       "{'salute': 0,\n",
       " 'ok': 1,\n",
       " 'love you': 2,\n",
       " 'come': 3,\n",
       " 'Namsate': 4,\n",
       " 'Gracious': 5,\n",
       " 'You': 6,\n",
       " 'Me': 7}"
      ]
     },
     "execution_count": 17,
     "metadata": {},
     "output_type": "execute_result"
    }
   ],
   "source": [
    "enc\n"
   ]
  },
  {
   "cell_type": "code",
   "execution_count": 18,
   "id": "493e9575",
   "metadata": {},
   "outputs": [],
   "source": [
    "seq, numbers = [], []\n",
    "for action in signs:\n",
    "    for s in range(videos):\n",
    "        lst = []\n",
    "        for x in range(fps):\n",
    "            r = numpy.load(os.path.join(address, action, str(s), \"{}.npy\".format(x)))\n",
    "            lst.append(r)\n",
    "        seq.append(lst)\n",
    "        numbers.append(enc[action])"
   ]
  },
  {
   "cell_type": "code",
   "execution_count": 19,
   "id": "ce78ef4b",
   "metadata": {
    "scrolled": true
   },
   "outputs": [
    {
     "data": {
      "text/plain": [
       "[0,\n",
       " 0,\n",
       " 0,\n",
       " 0,\n",
       " 0,\n",
       " 0,\n",
       " 0,\n",
       " 0,\n",
       " 0,\n",
       " 0,\n",
       " 0,\n",
       " 0,\n",
       " 0,\n",
       " 0,\n",
       " 0,\n",
       " 0,\n",
       " 0,\n",
       " 0,\n",
       " 0,\n",
       " 0,\n",
       " 0,\n",
       " 0,\n",
       " 0,\n",
       " 0,\n",
       " 0,\n",
       " 0,\n",
       " 0,\n",
       " 0,\n",
       " 0,\n",
       " 0,\n",
       " 1,\n",
       " 1,\n",
       " 1,\n",
       " 1,\n",
       " 1,\n",
       " 1,\n",
       " 1,\n",
       " 1,\n",
       " 1,\n",
       " 1,\n",
       " 1,\n",
       " 1,\n",
       " 1,\n",
       " 1,\n",
       " 1,\n",
       " 1,\n",
       " 1,\n",
       " 1,\n",
       " 1,\n",
       " 1,\n",
       " 1,\n",
       " 1,\n",
       " 1,\n",
       " 1,\n",
       " 1,\n",
       " 1,\n",
       " 1,\n",
       " 1,\n",
       " 1,\n",
       " 1,\n",
       " 2,\n",
       " 2,\n",
       " 2,\n",
       " 2,\n",
       " 2,\n",
       " 2,\n",
       " 2,\n",
       " 2,\n",
       " 2,\n",
       " 2,\n",
       " 2,\n",
       " 2,\n",
       " 2,\n",
       " 2,\n",
       " 2,\n",
       " 2,\n",
       " 2,\n",
       " 2,\n",
       " 2,\n",
       " 2,\n",
       " 2,\n",
       " 2,\n",
       " 2,\n",
       " 2,\n",
       " 2,\n",
       " 2,\n",
       " 2,\n",
       " 2,\n",
       " 2,\n",
       " 2,\n",
       " 3,\n",
       " 3,\n",
       " 3,\n",
       " 3,\n",
       " 3,\n",
       " 3,\n",
       " 3,\n",
       " 3,\n",
       " 3,\n",
       " 3,\n",
       " 3,\n",
       " 3,\n",
       " 3,\n",
       " 3,\n",
       " 3,\n",
       " 3,\n",
       " 3,\n",
       " 3,\n",
       " 3,\n",
       " 3,\n",
       " 3,\n",
       " 3,\n",
       " 3,\n",
       " 3,\n",
       " 3,\n",
       " 3,\n",
       " 3,\n",
       " 3,\n",
       " 3,\n",
       " 3,\n",
       " 4,\n",
       " 4,\n",
       " 4,\n",
       " 4,\n",
       " 4,\n",
       " 4,\n",
       " 4,\n",
       " 4,\n",
       " 4,\n",
       " 4,\n",
       " 4,\n",
       " 4,\n",
       " 4,\n",
       " 4,\n",
       " 4,\n",
       " 4,\n",
       " 4,\n",
       " 4,\n",
       " 4,\n",
       " 4,\n",
       " 4,\n",
       " 4,\n",
       " 4,\n",
       " 4,\n",
       " 4,\n",
       " 4,\n",
       " 4,\n",
       " 4,\n",
       " 4,\n",
       " 4,\n",
       " 5,\n",
       " 5,\n",
       " 5,\n",
       " 5,\n",
       " 5,\n",
       " 5,\n",
       " 5,\n",
       " 5,\n",
       " 5,\n",
       " 5,\n",
       " 5,\n",
       " 5,\n",
       " 5,\n",
       " 5,\n",
       " 5,\n",
       " 5,\n",
       " 5,\n",
       " 5,\n",
       " 5,\n",
       " 5,\n",
       " 5,\n",
       " 5,\n",
       " 5,\n",
       " 5,\n",
       " 5,\n",
       " 5,\n",
       " 5,\n",
       " 5,\n",
       " 5,\n",
       " 5,\n",
       " 6,\n",
       " 6,\n",
       " 6,\n",
       " 6,\n",
       " 6,\n",
       " 6,\n",
       " 6,\n",
       " 6,\n",
       " 6,\n",
       " 6,\n",
       " 6,\n",
       " 6,\n",
       " 6,\n",
       " 6,\n",
       " 6,\n",
       " 6,\n",
       " 6,\n",
       " 6,\n",
       " 6,\n",
       " 6,\n",
       " 6,\n",
       " 6,\n",
       " 6,\n",
       " 6,\n",
       " 6,\n",
       " 6,\n",
       " 6,\n",
       " 6,\n",
       " 6,\n",
       " 6,\n",
       " 7,\n",
       " 7,\n",
       " 7,\n",
       " 7,\n",
       " 7,\n",
       " 7,\n",
       " 7,\n",
       " 7,\n",
       " 7,\n",
       " 7,\n",
       " 7,\n",
       " 7,\n",
       " 7,\n",
       " 7,\n",
       " 7,\n",
       " 7,\n",
       " 7,\n",
       " 7,\n",
       " 7,\n",
       " 7,\n",
       " 7,\n",
       " 7,\n",
       " 7,\n",
       " 7,\n",
       " 7,\n",
       " 7,\n",
       " 7,\n",
       " 7,\n",
       " 7,\n",
       " 7]"
      ]
     },
     "execution_count": 19,
     "metadata": {},
     "output_type": "execute_result"
    }
   ],
   "source": [
    "numbers"
   ]
  },
  {
   "cell_type": "code",
   "execution_count": 20,
   "id": "ba5738a0",
   "metadata": {},
   "outputs": [],
   "source": [
    "X = numpy.array(seq)"
   ]
  },
  {
   "cell_type": "code",
   "execution_count": 21,
   "id": "608b8864",
   "metadata": {},
   "outputs": [
    {
     "data": {
      "text/plain": [
       "(240, 30, 1662)"
      ]
     },
     "execution_count": 21,
     "metadata": {},
     "output_type": "execute_result"
    }
   ],
   "source": [
    "X.shape"
   ]
  },
  {
   "cell_type": "code",
   "execution_count": 22,
   "id": "2cd0aa8f",
   "metadata": {},
   "outputs": [
    {
     "data": {
      "text/plain": [
       "(240, 30, 1662)"
      ]
     },
     "execution_count": 22,
     "metadata": {},
     "output_type": "execute_result"
    }
   ],
   "source": [
    "X.shape"
   ]
  },
  {
   "cell_type": "code",
   "execution_count": 23,
   "id": "47e7f37c",
   "metadata": {},
   "outputs": [],
   "source": [
    "y = encode(numbers).astype(int)"
   ]
  },
  {
   "cell_type": "code",
   "execution_count": 24,
   "id": "52859121",
   "metadata": {
    "scrolled": true
   },
   "outputs": [
    {
     "data": {
      "text/plain": [
       "array([[1, 0, 0, ..., 0, 0, 0],\n",
       "       [1, 0, 0, ..., 0, 0, 0],\n",
       "       [1, 0, 0, ..., 0, 0, 0],\n",
       "       ...,\n",
       "       [0, 0, 0, ..., 0, 0, 1],\n",
       "       [0, 0, 0, ..., 0, 0, 1],\n",
       "       [0, 0, 0, ..., 0, 0, 1]])"
      ]
     },
     "execution_count": 24,
     "metadata": {},
     "output_type": "execute_result"
    }
   ],
   "source": [
    "y"
   ]
  },
  {
   "cell_type": "code",
   "execution_count": 25,
   "id": "347a0ce4",
   "metadata": {},
   "outputs": [],
   "source": [
    "X_train, X_test, y_train, y_test = train_test_split(X, y, test_size=0.09,random_state=0)"
   ]
  },
  {
   "cell_type": "code",
   "execution_count": 26,
   "id": "1bcada18",
   "metadata": {},
   "outputs": [
    {
     "data": {
      "text/plain": [
       "(22, 8)"
      ]
     },
     "execution_count": 26,
     "metadata": {},
     "output_type": "execute_result"
    }
   ],
   "source": [
    "y_test.shape"
   ]
  },
  {
   "cell_type": "markdown",
   "id": "d3c7459f",
   "metadata": {},
   "source": [
    "### LSTM"
   ]
  },
  {
   "cell_type": "code",
   "execution_count": 27,
   "id": "e8ac2943",
   "metadata": {},
   "outputs": [],
   "source": [
    "lstm = Sequential()\n",
    "lstm.add(LSTM(64, return_sequences=True, activation='relu', input_shape=(30,1662)))\n",
    "lstm.add(LSTM(128, return_sequences=True, activation='relu'))\n",
    "lstm.add(LSTM(64, return_sequences=False, activation='relu'))\n",
    "lstm.add(Dense(64, activation='relu'))\n",
    "lstm.add(Dense(32, activation='relu'))\n",
    "lstm.add(Dense(signs.shape[0], activation='softmax'))"
   ]
  },
  {
   "cell_type": "code",
   "execution_count": 28,
   "id": "cd4f9694",
   "metadata": {},
   "outputs": [
    {
     "data": {
      "text/plain": [
       "(240, 30, 1662)"
      ]
     },
     "execution_count": 28,
     "metadata": {},
     "output_type": "execute_result"
    }
   ],
   "source": [
    "X.shape"
   ]
  },
  {
   "cell_type": "code",
   "execution_count": 29,
   "id": "46c9e78f",
   "metadata": {},
   "outputs": [
    {
     "data": {
      "text/plain": [
       "8"
      ]
     },
     "execution_count": 29,
     "metadata": {},
     "output_type": "execute_result"
    }
   ],
   "source": [
    "signs.shape[0]"
   ]
  },
  {
   "cell_type": "code",
   "execution_count": 30,
   "id": "1f68cea6",
   "metadata": {},
   "outputs": [],
   "source": [
    "lstm.compile(optimizer='Adam', loss='categorical_crossentropy', metrics=['categorical_accuracy'])"
   ]
  },
  {
   "cell_type": "code",
   "execution_count": 42,
   "id": "47e5b442",
   "metadata": {},
   "outputs": [
    {
     "name": "stdout",
     "output_type": "stream",
     "text": [
      "Epoch 1/122\n",
      "2/2 [==============================] - 4s 111ms/step - loss: 1.2669 - categorical_accuracy: 0.4815\n",
      "Epoch 2/122\n",
      "2/2 [==============================] - 0s 68ms/step - loss: 7.6095 - categorical_accuracy: 0.7037\n",
      "Epoch 3/122\n",
      "2/2 [==============================] - 0s 69ms/step - loss: 21.3506 - categorical_accuracy: 0.5741\n",
      "Epoch 4/122\n",
      "2/2 [==============================] - 0s 68ms/step - loss: 24.7840 - categorical_accuracy: 0.4815\n",
      "Epoch 5/122\n",
      "2/2 [==============================] - 0s 70ms/step - loss: 22.4708 - categorical_accuracy: 0.4444\n",
      "Epoch 6/122\n",
      "2/2 [==============================] - 0s 64ms/step - loss: 11.9286 - categorical_accuracy: 0.5185\n",
      "Epoch 7/122\n",
      "2/2 [==============================] - 0s 71ms/step - loss: 16.4369 - categorical_accuracy: 0.5741\n",
      "Epoch 8/122\n",
      "2/2 [==============================] - 0s 72ms/step - loss: 26.5063 - categorical_accuracy: 0.3704\n",
      "Epoch 9/122\n",
      "2/2 [==============================] - 0s 64ms/step - loss: 11.3404 - categorical_accuracy: 0.4630\n",
      "Epoch 10/122\n",
      "2/2 [==============================] - 0s 68ms/step - loss: 20.6457 - categorical_accuracy: 0.3148\n",
      "Epoch 11/122\n",
      "2/2 [==============================] - 0s 66ms/step - loss: 17.7426 - categorical_accuracy: 0.4444\n",
      "Epoch 12/122\n",
      "2/2 [==============================] - 0s 80ms/step - loss: 15.8214 - categorical_accuracy: 0.5556\n",
      "Epoch 13/122\n",
      "2/2 [==============================] - 0s 66ms/step - loss: 10.2871 - categorical_accuracy: 0.4444\n",
      "Epoch 14/122\n",
      "2/2 [==============================] - 0s 74ms/step - loss: 18.5346 - categorical_accuracy: 0.5000\n",
      "Epoch 15/122\n",
      "2/2 [==============================] - 0s 62ms/step - loss: 12.2436 - categorical_accuracy: 0.5185\n",
      "Epoch 16/122\n",
      "2/2 [==============================] - 0s 74ms/step - loss: 19.3959 - categorical_accuracy: 0.3148\n",
      "Epoch 17/122\n",
      "2/2 [==============================] - 0s 64ms/step - loss: 4.9492 - categorical_accuracy: 0.6852\n",
      "Epoch 18/122\n",
      "2/2 [==============================] - 0s 70ms/step - loss: 5.9619 - categorical_accuracy: 0.5741\n",
      "Epoch 19/122\n",
      "2/2 [==============================] - 0s 71ms/step - loss: 9.7070 - categorical_accuracy: 0.5000\n",
      "Epoch 20/122\n",
      "2/2 [==============================] - 0s 68ms/step - loss: 13.1245 - categorical_accuracy: 0.4630\n",
      "Epoch 21/122\n",
      "2/2 [==============================] - 0s 73ms/step - loss: 15.7835 - categorical_accuracy: 0.5926\n",
      "Epoch 22/122\n",
      "2/2 [==============================] - 0s 57ms/step - loss: 31.5735 - categorical_accuracy: 0.4815\n",
      "Epoch 23/122\n",
      "2/2 [==============================] - 0s 68ms/step - loss: 45.4916 - categorical_accuracy: 0.3889\n",
      "Epoch 24/122\n",
      "2/2 [==============================] - 0s 60ms/step - loss: 91.7494 - categorical_accuracy: 0.5000\n",
      "Epoch 25/122\n",
      "2/2 [==============================] - 0s 71ms/step - loss: 65.7079 - categorical_accuracy: 0.5741\n",
      "Epoch 26/122\n",
      "2/2 [==============================] - 0s 63ms/step - loss: 68.6153 - categorical_accuracy: 0.5000\n",
      "Epoch 27/122\n",
      "2/2 [==============================] - 0s 69ms/step - loss: 24.9742 - categorical_accuracy: 0.3704\n",
      "Epoch 28/122\n",
      "2/2 [==============================] - 0s 58ms/step - loss: 27.5788 - categorical_accuracy: 0.5000\n",
      "Epoch 29/122\n",
      "2/2 [==============================] - 0s 66ms/step - loss: 14.0945 - categorical_accuracy: 0.5185\n",
      "Epoch 30/122\n",
      "2/2 [==============================] - 0s 58ms/step - loss: 23.9338 - categorical_accuracy: 0.4444\n",
      "Epoch 31/122\n",
      "2/2 [==============================] - 0s 73ms/step - loss: 25.8631 - categorical_accuracy: 0.5000\n",
      "Epoch 32/122\n",
      "2/2 [==============================] - 0s 67ms/step - loss: 20.9587 - categorical_accuracy: 0.4630\n",
      "Epoch 33/122\n",
      "2/2 [==============================] - 0s 74ms/step - loss: 7.8396 - categorical_accuracy: 0.7037\n",
      "Epoch 34/122\n",
      "2/2 [==============================] - 0s 68ms/step - loss: 9.9184 - categorical_accuracy: 0.5556\n",
      "Epoch 35/122\n",
      "2/2 [==============================] - 0s 64ms/step - loss: 8.8465 - categorical_accuracy: 0.4630\n",
      "Epoch 36/122\n",
      "2/2 [==============================] - 0s 83ms/step - loss: 8.0475 - categorical_accuracy: 0.5370\n",
      "Epoch 37/122\n",
      "2/2 [==============================] - 0s 86ms/step - loss: 6.3508 - categorical_accuracy: 0.5185\n",
      "Epoch 38/122\n",
      "2/2 [==============================] - 0s 71ms/step - loss: 10.9445 - categorical_accuracy: 0.5556\n",
      "Epoch 39/122\n",
      "2/2 [==============================] - 0s 78ms/step - loss: 4.6790 - categorical_accuracy: 0.7593\n",
      "Epoch 40/122\n",
      "2/2 [==============================] - 0s 62ms/step - loss: 3.4517 - categorical_accuracy: 0.5370\n",
      "Epoch 41/122\n",
      "2/2 [==============================] - 0s 75ms/step - loss: 10.9492 - categorical_accuracy: 0.5185\n",
      "Epoch 42/122\n",
      "2/2 [==============================] - 0s 71ms/step - loss: 5.4153 - categorical_accuracy: 0.6111\n",
      "Epoch 43/122\n",
      "2/2 [==============================] - 0s 74ms/step - loss: 19.6568 - categorical_accuracy: 0.4815\n",
      "Epoch 44/122\n",
      "2/2 [==============================] - 0s 70ms/step - loss: 16.1251 - categorical_accuracy: 0.5556\n",
      "Epoch 45/122\n",
      "2/2 [==============================] - 0s 70ms/step - loss: 9.8112 - categorical_accuracy: 0.5556\n",
      "Epoch 46/122\n",
      "2/2 [==============================] - 0s 72ms/step - loss: 13.1075 - categorical_accuracy: 0.4444\n",
      "Epoch 47/122\n",
      "2/2 [==============================] - 0s 76ms/step - loss: 14.9552 - categorical_accuracy: 0.5926\n",
      "Epoch 48/122\n",
      "2/2 [==============================] - 0s 78ms/step - loss: 29.6923 - categorical_accuracy: 0.4444\n",
      "Epoch 49/122\n",
      "2/2 [==============================] - 0s 78ms/step - loss: 18.4803 - categorical_accuracy: 0.6111\n",
      "Epoch 50/122\n",
      "2/2 [==============================] - 0s 77ms/step - loss: 25.9935 - categorical_accuracy: 0.5185\n",
      "Epoch 51/122\n",
      "2/2 [==============================] - 0s 68ms/step - loss: 17.9706 - categorical_accuracy: 0.5185\n",
      "Epoch 52/122\n",
      "2/2 [==============================] - 0s 70ms/step - loss: 60.7680 - categorical_accuracy: 0.4815\n",
      "Epoch 53/122\n",
      "2/2 [==============================] - 0s 79ms/step - loss: 34.7080 - categorical_accuracy: 0.5000\n",
      "Epoch 54/122\n",
      "2/2 [==============================] - 0s 82ms/step - loss: 31.9639 - categorical_accuracy: 0.5556\n",
      "Epoch 55/122\n",
      "2/2 [==============================] - 0s 71ms/step - loss: 167.6658 - categorical_accuracy: 0.4259\n",
      "Epoch 56/122\n",
      "2/2 [==============================] - 0s 62ms/step - loss: 105.4985 - categorical_accuracy: 0.6481\n",
      "Epoch 57/122\n",
      "2/2 [==============================] - 0s 72ms/step - loss: 70.8756 - categorical_accuracy: 0.5556\n",
      "Epoch 58/122\n",
      "2/2 [==============================] - 0s 66ms/step - loss: 64.8433 - categorical_accuracy: 0.4815\n",
      "Epoch 59/122\n",
      "2/2 [==============================] - 0s 59ms/step - loss: 66.7189 - categorical_accuracy: 0.5556\n",
      "Epoch 60/122\n",
      "2/2 [==============================] - 0s 83ms/step - loss: 48.2270 - categorical_accuracy: 0.4259\n",
      "Epoch 61/122\n",
      "2/2 [==============================] - 0s 73ms/step - loss: 38.2658 - categorical_accuracy: 0.4815\n",
      "Epoch 62/122\n",
      "2/2 [==============================] - 0s 76ms/step - loss: 19.8352 - categorical_accuracy: 0.5556\n",
      "Epoch 63/122\n",
      "2/2 [==============================] - 0s 68ms/step - loss: 24.0381 - categorical_accuracy: 0.4815\n",
      "Epoch 64/122\n",
      "2/2 [==============================] - 0s 64ms/step - loss: 7.3014 - categorical_accuracy: 0.6481\n",
      "Epoch 65/122\n",
      "2/2 [==============================] - 0s 64ms/step - loss: 12.6363 - categorical_accuracy: 0.5185\n",
      "Epoch 66/122\n",
      "2/2 [==============================] - 0s 83ms/step - loss: 14.8188 - categorical_accuracy: 0.5185\n",
      "Epoch 67/122\n",
      "2/2 [==============================] - 0s 69ms/step - loss: 10.7027 - categorical_accuracy: 0.5370\n",
      "Epoch 68/122\n",
      "2/2 [==============================] - 0s 70ms/step - loss: 32.0478 - categorical_accuracy: 0.4815\n",
      "Epoch 69/122\n",
      "2/2 [==============================] - 0s 71ms/step - loss: 12.5369 - categorical_accuracy: 0.4259\n",
      "Epoch 70/122\n",
      "2/2 [==============================] - 0s 58ms/step - loss: 14.3677 - categorical_accuracy: 0.5185\n",
      "Epoch 71/122\n",
      "2/2 [==============================] - 0s 67ms/step - loss: 15.2469 - categorical_accuracy: 0.5185\n",
      "Epoch 72/122\n",
      "2/2 [==============================] - 0s 61ms/step - loss: 2.3263 - categorical_accuracy: 0.5000\n",
      "Epoch 73/122\n",
      "2/2 [==============================] - 0s 65ms/step - loss: 6.3669 - categorical_accuracy: 0.4815\n",
      "Epoch 74/122\n",
      "2/2 [==============================] - 0s 83ms/step - loss: 0.4109 - categorical_accuracy: 0.9444\n",
      "Epoch 75/122\n",
      "2/2 [==============================] - 0s 70ms/step - loss: 3.7959 - categorical_accuracy: 0.5926\n",
      "Epoch 76/122\n",
      "2/2 [==============================] - 0s 68ms/step - loss: 0.6567 - categorical_accuracy: 0.9444\n",
      "Epoch 77/122\n",
      "2/2 [==============================] - 0s 58ms/step - loss: 0.4120 - categorical_accuracy: 0.9074\n",
      "Epoch 78/122\n",
      "2/2 [==============================] - 0s 57ms/step - loss: 0.9251 - categorical_accuracy: 0.8333\n",
      "Epoch 79/122\n",
      "2/2 [==============================] - 0s 69ms/step - loss: 1.0386 - categorical_accuracy: 0.8519\n",
      "Epoch 80/122\n",
      "2/2 [==============================] - 0s 68ms/step - loss: 0.6050 - categorical_accuracy: 0.9259\n",
      "Epoch 81/122\n",
      "2/2 [==============================] - 0s 66ms/step - loss: 0.5330 - categorical_accuracy: 0.9444\n",
      "Epoch 82/122\n",
      "2/2 [==============================] - 0s 69ms/step - loss: 0.5440 - categorical_accuracy: 0.9444\n",
      "Epoch 83/122\n",
      "2/2 [==============================] - 0s 69ms/step - loss: 0.4721 - categorical_accuracy: 0.9444\n",
      "Epoch 84/122\n",
      "2/2 [==============================] - 0s 68ms/step - loss: 0.4103 - categorical_accuracy: 0.9630\n",
      "Epoch 85/122\n",
      "2/2 [==============================] - 0s 62ms/step - loss: 0.2950 - categorical_accuracy: 0.9630\n",
      "Epoch 86/122\n",
      "2/2 [==============================] - 0s 66ms/step - loss: 0.3726 - categorical_accuracy: 0.9444\n",
      "Epoch 87/122\n",
      "2/2 [==============================] - 0s 68ms/step - loss: 0.3613 - categorical_accuracy: 0.9444\n",
      "Epoch 88/122\n",
      "2/2 [==============================] - 0s 54ms/step - loss: 0.3058 - categorical_accuracy: 0.9444\n",
      "Epoch 89/122\n",
      "2/2 [==============================] - 0s 71ms/step - loss: 0.2252 - categorical_accuracy: 0.9815\n",
      "Epoch 90/122\n",
      "2/2 [==============================] - 0s 56ms/step - loss: 0.1906 - categorical_accuracy: 0.9815\n",
      "Epoch 91/122\n",
      "2/2 [==============================] - 0s 60ms/step - loss: 0.2535 - categorical_accuracy: 0.9630\n",
      "Epoch 92/122\n",
      "2/2 [==============================] - 0s 63ms/step - loss: 0.2588 - categorical_accuracy: 0.9630\n",
      "Epoch 93/122\n",
      "2/2 [==============================] - 0s 64ms/step - loss: 0.2210 - categorical_accuracy: 0.9444\n",
      "Epoch 94/122\n",
      "2/2 [==============================] - 0s 66ms/step - loss: 0.1834 - categorical_accuracy: 0.9815\n",
      "Epoch 95/122\n",
      "2/2 [==============================] - 0s 70ms/step - loss: 0.1889 - categorical_accuracy: 0.9815\n",
      "Epoch 96/122\n",
      "2/2 [==============================] - 0s 71ms/step - loss: 0.1910 - categorical_accuracy: 0.9815\n",
      "Epoch 97/122\n",
      "2/2 [==============================] - 0s 56ms/step - loss: 0.1903 - categorical_accuracy: 0.9815\n",
      "Epoch 98/122\n",
      "2/2 [==============================] - 0s 61ms/step - loss: 0.1840 - categorical_accuracy: 0.9815\n",
      "Epoch 99/122\n",
      "2/2 [==============================] - 0s 66ms/step - loss: 0.1712 - categorical_accuracy: 0.9815\n",
      "Epoch 100/122\n",
      "2/2 [==============================] - 0s 68ms/step - loss: 0.1530 - categorical_accuracy: 0.9815\n",
      "Epoch 101/122\n",
      "2/2 [==============================] - 0s 68ms/step - loss: 0.0974 - categorical_accuracy: 0.9815\n",
      "Epoch 102/122\n",
      "2/2 [==============================] - 0s 56ms/step - loss: 0.1359 - categorical_accuracy: 0.9815\n",
      "Epoch 103/122\n",
      "2/2 [==============================] - 0s 56ms/step - loss: 0.1338 - categorical_accuracy: 0.9815\n",
      "Epoch 104/122\n",
      "2/2 [==============================] - 0s 56ms/step - loss: 0.1286 - categorical_accuracy: 0.9815\n",
      "Epoch 105/122\n",
      "2/2 [==============================] - 0s 62ms/step - loss: 0.1290 - categorical_accuracy: 0.9630\n",
      "Epoch 106/122\n",
      "2/2 [==============================] - 0s 65ms/step - loss: 0.1253 - categorical_accuracy: 0.9630\n",
      "Epoch 107/122\n",
      "2/2 [==============================] - 0s 68ms/step - loss: 0.1214 - categorical_accuracy: 0.9630\n",
      "Epoch 108/122\n",
      "2/2 [==============================] - 0s 69ms/step - loss: 0.1185 - categorical_accuracy: 0.9630\n",
      "Epoch 109/122\n",
      "2/2 [==============================] - 0s 71ms/step - loss: 0.1195 - categorical_accuracy: 0.9815\n",
      "Epoch 110/122\n",
      "2/2 [==============================] - 0s 60ms/step - loss: 0.1175 - categorical_accuracy: 0.9815\n",
      "Epoch 111/122\n",
      "2/2 [==============================] - 0s 56ms/step - loss: 0.1118 - categorical_accuracy: 0.9815\n",
      "Epoch 112/122\n",
      "2/2 [==============================] - 0s 69ms/step - loss: 0.1084 - categorical_accuracy: 0.9815\n",
      "Epoch 113/122\n",
      "2/2 [==============================] - 0s 70ms/step - loss: 0.1028 - categorical_accuracy: 0.9630\n",
      "Epoch 114/122\n",
      "2/2 [==============================] - 0s 71ms/step - loss: 0.1088 - categorical_accuracy: 0.9630\n",
      "Epoch 115/122\n",
      "2/2 [==============================] - 0s 68ms/step - loss: 0.0980 - categorical_accuracy: 0.9630\n",
      "Epoch 116/122\n",
      "2/2 [==============================] - 0s 82ms/step - loss: 0.0958 - categorical_accuracy: 0.9630\n",
      "Epoch 117/122\n",
      "2/2 [==============================] - 0s 72ms/step - loss: 0.1422 - categorical_accuracy: 0.9444\n",
      "Epoch 118/122\n",
      "2/2 [==============================] - 0s 64ms/step - loss: 0.1317 - categorical_accuracy: 0.9630\n",
      "Epoch 119/122\n",
      "2/2 [==============================] - 0s 66ms/step - loss: 0.2336 - categorical_accuracy: 0.9630\n",
      "Epoch 120/122\n",
      "2/2 [==============================] - 0s 53ms/step - loss: 0.1691 - categorical_accuracy: 0.9630\n",
      "Epoch 121/122\n",
      "2/2 [==============================] - 0s 60ms/step - loss: 0.1405 - categorical_accuracy: 0.9630\n",
      "Epoch 122/122\n",
      "2/2 [==============================] - 0s 70ms/step - loss: 0.0898 - categorical_accuracy: 0.9815\n"
     ]
    }
   ],
   "source": [
    "history=lstm.fit(X_train, y_train, epochs=122)"
   ]
  },
  {
   "cell_type": "code",
   "execution_count": 45,
   "id": "7a9c9785",
   "metadata": {},
   "outputs": [
    {
     "name": "stdout",
     "output_type": "stream",
     "text": [
      "Model: \"sequential\"\n",
      "_________________________________________________________________\n",
      " Layer (type)                Output Shape              Param #   \n",
      "=================================================================\n",
      " lstm (LSTM)                 (None, 30, 64)            442112    \n",
      "                                                                 \n",
      " lstm_1 (LSTM)               (None, 30, 128)           98816     \n",
      "                                                                 \n",
      " lstm_2 (LSTM)               (None, 64)                49408     \n",
      "                                                                 \n",
      " dense (Dense)               (None, 64)                4160      \n",
      "                                                                 \n",
      " dense_1 (Dense)             (None, 32)                2080      \n",
      "                                                                 \n",
      " dense_2 (Dense)             (None, 2)                 66        \n",
      "                                                                 \n",
      "=================================================================\n",
      "Total params: 596,642\n",
      "Trainable params: 596,642\n",
      "Non-trainable params: 0\n",
      "_________________________________________________________________\n"
     ]
    }
   ],
   "source": [
    "lstm.summary()"
   ]
  },
  {
   "cell_type": "code",
   "execution_count": 34,
   "id": "fa1b9a8d",
   "metadata": {},
   "outputs": [],
   "source": [
    "y_pred = lstm.predict(X_test)"
   ]
  },
  {
   "cell_type": "code",
   "execution_count": 35,
   "id": "0073c239",
   "metadata": {},
   "outputs": [
    {
     "data": {
      "text/plain": [
       "array([3.86611652e-03, 7.09191372e-04, 6.07186637e-04, 9.54079330e-01,\n",
       "       8.06326699e-03, 5.91022149e-03, 1.26741035e-02, 1.40906312e-02],\n",
       "      dtype=float32)"
      ]
     },
     "execution_count": 35,
     "metadata": {},
     "output_type": "execute_result"
    }
   ],
   "source": [
    "y_pred[0]"
   ]
  },
  {
   "cell_type": "code",
   "execution_count": 36,
   "id": "5172fdde",
   "metadata": {},
   "outputs": [
    {
     "data": {
      "text/plain": [
       "'love you'"
      ]
     },
     "execution_count": 36,
     "metadata": {},
     "output_type": "execute_result"
    }
   ],
   "source": [
    "signs[numpy.argmax(y_pred[3])]"
   ]
  },
  {
   "cell_type": "code",
   "execution_count": 32,
   "id": "f0690788",
   "metadata": {},
   "outputs": [
    {
     "data": {
      "text/plain": [
       "'love you'"
      ]
     },
     "execution_count": 32,
     "metadata": {},
     "output_type": "execute_result"
    }
   ],
   "source": [
    "signs[numpy.argmax(y_test[3])]"
   ]
  },
  {
   "cell_type": "code",
   "execution_count": 52,
   "id": "22091b51",
   "metadata": {},
   "outputs": [],
   "source": [
    "# lstm.save('8signsworkfine.h5')"
   ]
  },
  {
   "cell_type": "code",
   "execution_count": 31,
   "id": "812e2f44",
   "metadata": {},
   "outputs": [],
   "source": [
    "lstm.load_weights('8signsworkfine.h5')"
   ]
  },
  {
   "cell_type": "code",
   "execution_count": 38,
   "id": "372b46f7",
   "metadata": {},
   "outputs": [],
   "source": [
    "y_new = lstm.predict(X_test)"
   ]
  },
  {
   "cell_type": "code",
   "execution_count": 39,
   "id": "ef84543d",
   "metadata": {},
   "outputs": [],
   "source": [
    "ytrue = numpy.argmax(y_test, axis=1).tolist()\n",
    "y_new = numpy.argmax(y_new, axis=1).tolist()"
   ]
  },
  {
   "cell_type": "code",
   "execution_count": 40,
   "id": "de103f95",
   "metadata": {},
   "outputs": [
    {
     "data": {
      "text/plain": [
       "[3, 2, 1, 2, 3, 7, 5, 7, 5, 6, 2, 6, 2, 5, 7, 4, 6, 3, 7, 0, 3, 5]"
      ]
     },
     "execution_count": 40,
     "metadata": {},
     "output_type": "execute_result"
    }
   ],
   "source": [
    "ytrue"
   ]
  },
  {
   "cell_type": "code",
   "execution_count": 41,
   "id": "1f7474c9",
   "metadata": {
    "collapsed": true
   },
   "outputs": [
    {
     "data": {
      "text/plain": [
       "array([[[21,  0],\n",
       "        [ 0,  1]],\n",
       "\n",
       "       [[21,  0],\n",
       "        [ 0,  1]],\n",
       "\n",
       "       [[18,  0],\n",
       "        [ 0,  4]],\n",
       "\n",
       "       [[18,  0],\n",
       "        [ 0,  4]],\n",
       "\n",
       "       [[21,  0],\n",
       "        [ 0,  1]],\n",
       "\n",
       "       [[18,  0],\n",
       "        [ 0,  4]],\n",
       "\n",
       "       [[19,  0],\n",
       "        [ 0,  3]],\n",
       "\n",
       "       [[18,  0],\n",
       "        [ 0,  4]]], dtype=int64)"
      ]
     },
     "execution_count": 41,
     "metadata": {},
     "output_type": "execute_result"
    }
   ],
   "source": [
    "multilabel_confusion_matrix(ytrue, y_new)"
   ]
  },
  {
   "cell_type": "markdown",
   "id": "5ac8adf8",
   "metadata": {},
   "source": [
    "#### LSTM Accuracy"
   ]
  },
  {
   "cell_type": "code",
   "execution_count": 5,
   "id": "76fe50dd",
   "metadata": {},
   "outputs": [
    {
     "data": {
      "text/plain": [
       "0.84"
      ]
     },
     "execution_count": 5,
     "metadata": {},
     "output_type": "execute_result"
    }
   ],
   "source": [
    "accuracy_score(ytrue, y_new)"
   ]
  },
  {
   "cell_type": "markdown",
   "id": "b3a2d2ea",
   "metadata": {},
   "source": [
    "### RNN model"
   ]
  },
  {
   "cell_type": "code",
   "execution_count": 43,
   "id": "07712476",
   "metadata": {},
   "outputs": [],
   "source": [
    "model_rnn = Sequential()\n",
    "model_rnn.add(SimpleRNN(64, return_sequences=True, activation='relu', input_shape=(30,1662)))\n",
    "model_rnn.add(SimpleRNN(128, return_sequences=True, activation='relu'))\n",
    "model_rnn.add(SimpleRNN(64, return_sequences=False, activation='relu'))\n",
    "model_rnn.add(Dense(64, activation='relu'))\n",
    "model_rnn.add(Dense(32, activation='relu'))\n",
    "model_rnn.add(Dense(signs.shape[0], activation='softmax'))"
   ]
  },
  {
   "cell_type": "code",
   "execution_count": 44,
   "id": "e5cc1e20",
   "metadata": {},
   "outputs": [],
   "source": [
    "model_rnn.compile(optimizer='Adam', loss='categorical_crossentropy', metrics=['categorical_accuracy'])"
   ]
  },
  {
   "cell_type": "code",
   "execution_count": 46,
   "id": "73da53b7",
   "metadata": {},
   "outputs": [
    {
     "name": "stdout",
     "output_type": "stream",
     "text": [
      "Epoch 1/122\n",
      "7/7 [==============================] - 2s 27ms/step - loss: 2.1273 - categorical_accuracy: 0.1284\n",
      "Epoch 2/122\n",
      "7/7 [==============================] - 0s 28ms/step - loss: 2.1151 - categorical_accuracy: 0.1009\n",
      "Epoch 3/122\n",
      "7/7 [==============================] - 0s 28ms/step - loss: 2.0602 - categorical_accuracy: 0.1743\n",
      "Epoch 4/122\n",
      "7/7 [==============================] - 0s 28ms/step - loss: 2.0331 - categorical_accuracy: 0.1789\n",
      "Epoch 5/122\n",
      "7/7 [==============================] - 0s 28ms/step - loss: 1.9992 - categorical_accuracy: 0.2018\n",
      "Epoch 6/122\n",
      "7/7 [==============================] - 0s 29ms/step - loss: 1.8580 - categorical_accuracy: 0.2982\n",
      "Epoch 7/122\n",
      "7/7 [==============================] - 0s 28ms/step - loss: 1.6686 - categorical_accuracy: 0.3028\n",
      "Epoch 8/122\n",
      "7/7 [==============================] - 0s 29ms/step - loss: 1.5344 - categorical_accuracy: 0.3853\n",
      "Epoch 9/122\n",
      "7/7 [==============================] - 0s 28ms/step - loss: 1.2968 - categorical_accuracy: 0.5229\n",
      "Epoch 10/122\n",
      "7/7 [==============================] - 0s 29ms/step - loss: 1.2287 - categorical_accuracy: 0.5229\n",
      "Epoch 11/122\n",
      "7/7 [==============================] - 0s 29ms/step - loss: 0.9901 - categorical_accuracy: 0.6284 0s - loss: 1.0525 - categorical_accuracy: \n",
      "Epoch 12/122\n",
      "7/7 [==============================] - 0s 29ms/step - loss: 0.8073 - categorical_accuracy: 0.7018\n",
      "Epoch 13/122\n",
      "7/7 [==============================] - 0s 28ms/step - loss: 0.6090 - categorical_accuracy: 0.7706\n",
      "Epoch 14/122\n",
      "7/7 [==============================] - 0s 28ms/step - loss: 0.4425 - categorical_accuracy: 0.7936\n",
      "Epoch 15/122\n",
      "7/7 [==============================] - 0s 28ms/step - loss: 0.4142 - categorical_accuracy: 0.8670\n",
      "Epoch 16/122\n",
      "7/7 [==============================] - 0s 28ms/step - loss: 0.4009 - categorical_accuracy: 0.8624\n",
      "Epoch 17/122\n",
      "7/7 [==============================] - 0s 29ms/step - loss: 0.3006 - categorical_accuracy: 0.8716\n",
      "Epoch 18/122\n",
      "7/7 [==============================] - 0s 28ms/step - loss: 0.3252 - categorical_accuracy: 0.8761\n",
      "Epoch 19/122\n",
      "7/7 [==============================] - 0s 28ms/step - loss: 0.3468 - categorical_accuracy: 0.8486\n",
      "Epoch 20/122\n",
      "7/7 [==============================] - 0s 28ms/step - loss: 0.5512 - categorical_accuracy: 0.7752\n",
      "Epoch 21/122\n",
      "7/7 [==============================] - 0s 27ms/step - loss: 0.2944 - categorical_accuracy: 0.9083\n",
      "Epoch 22/122\n",
      "7/7 [==============================] - 0s 29ms/step - loss: 0.2299 - categorical_accuracy: 0.9541\n",
      "Epoch 23/122\n",
      "7/7 [==============================] - 0s 28ms/step - loss: 0.1623 - categorical_accuracy: 0.9587\n",
      "Epoch 24/122\n",
      "7/7 [==============================] - 0s 28ms/step - loss: 0.2076 - categorical_accuracy: 0.9174\n",
      "Epoch 25/122\n",
      "7/7 [==============================] - 0s 29ms/step - loss: 0.1928 - categorical_accuracy: 0.9404\n",
      "Epoch 26/122\n",
      "7/7 [==============================] - 0s 28ms/step - loss: 0.1737 - categorical_accuracy: 0.9495\n",
      "Epoch 27/122\n",
      "7/7 [==============================] - 0s 29ms/step - loss: 0.1257 - categorical_accuracy: 0.9679\n",
      "Epoch 28/122\n",
      "7/7 [==============================] - 0s 28ms/step - loss: 0.1505 - categorical_accuracy: 0.9633\n",
      "Epoch 29/122\n",
      "7/7 [==============================] - 0s 29ms/step - loss: 0.1893 - categorical_accuracy: 0.9495\n",
      "Epoch 30/122\n",
      "7/7 [==============================] - 0s 28ms/step - loss: 0.5664 - categorical_accuracy: 0.7982\n",
      "Epoch 31/122\n",
      "7/7 [==============================] - 0s 28ms/step - loss: 0.8754 - categorical_accuracy: 0.6651\n",
      "Epoch 32/122\n",
      "7/7 [==============================] - 0s 29ms/step - loss: 0.5527 - categorical_accuracy: 0.7706\n",
      "Epoch 33/122\n",
      "7/7 [==============================] - 0s 29ms/step - loss: 0.3198 - categorical_accuracy: 0.9312\n",
      "Epoch 34/122\n",
      "7/7 [==============================] - 0s 28ms/step - loss: 0.2773 - categorical_accuracy: 0.8945\n",
      "Epoch 35/122\n",
      "7/7 [==============================] - 0s 28ms/step - loss: 0.1985 - categorical_accuracy: 0.9495\n",
      "Epoch 36/122\n",
      "7/7 [==============================] - 0s 29ms/step - loss: 0.1370 - categorical_accuracy: 0.9771\n",
      "Epoch 37/122\n",
      "7/7 [==============================] - 0s 28ms/step - loss: 0.1275 - categorical_accuracy: 0.9771\n",
      "Epoch 38/122\n",
      "7/7 [==============================] - 0s 28ms/step - loss: 0.1010 - categorical_accuracy: 0.9771\n",
      "Epoch 39/122\n",
      "7/7 [==============================] - 0s 30ms/step - loss: 0.0967 - categorical_accuracy: 0.9771\n",
      "Epoch 40/122\n",
      "7/7 [==============================] - 0s 29ms/step - loss: 0.2200 - categorical_accuracy: 0.9312\n",
      "Epoch 41/122\n",
      "7/7 [==============================] - 0s 28ms/step - loss: 0.5980 - categorical_accuracy: 0.7844\n",
      "Epoch 42/122\n",
      "7/7 [==============================] - 0s 33ms/step - loss: 0.5213 - categorical_accuracy: 0.8165\n",
      "Epoch 43/122\n",
      "7/7 [==============================] - 0s 27ms/step - loss: 0.3041 - categorical_accuracy: 0.8670\n",
      "Epoch 44/122\n",
      "7/7 [==============================] - 0s 28ms/step - loss: 0.1940 - categorical_accuracy: 0.9450\n",
      "Epoch 45/122\n",
      "7/7 [==============================] - 0s 28ms/step - loss: 0.1487 - categorical_accuracy: 0.9679\n",
      "Epoch 46/122\n",
      "7/7 [==============================] - 0s 29ms/step - loss: 0.1073 - categorical_accuracy: 0.9771\n",
      "Epoch 47/122\n",
      "7/7 [==============================] - 0s 28ms/step - loss: 0.1028 - categorical_accuracy: 0.9725\n",
      "Epoch 48/122\n",
      "7/7 [==============================] - 0s 28ms/step - loss: 0.1063 - categorical_accuracy: 0.9725\n",
      "Epoch 49/122\n",
      "7/7 [==============================] - 0s 29ms/step - loss: 0.0966 - categorical_accuracy: 0.9725\n",
      "Epoch 50/122\n",
      "7/7 [==============================] - 0s 28ms/step - loss: 0.1693 - categorical_accuracy: 0.9495\n",
      "Epoch 51/122\n",
      "7/7 [==============================] - 0s 28ms/step - loss: 0.1038 - categorical_accuracy: 0.9679\n",
      "Epoch 52/122\n",
      "7/7 [==============================] - 0s 28ms/step - loss: 0.3131 - categorical_accuracy: 0.9358\n",
      "Epoch 53/122\n",
      "7/7 [==============================] - 0s 29ms/step - loss: 0.3883 - categorical_accuracy: 0.8486\n",
      "Epoch 54/122\n",
      "7/7 [==============================] - 0s 28ms/step - loss: 0.4295 - categorical_accuracy: 0.8486\n",
      "Epoch 55/122\n",
      "7/7 [==============================] - 0s 28ms/step - loss: 0.2602 - categorical_accuracy: 0.9037\n",
      "Epoch 56/122\n",
      "7/7 [==============================] - 0s 28ms/step - loss: 0.1823 - categorical_accuracy: 0.9725\n",
      "Epoch 57/122\n",
      "7/7 [==============================] - 0s 28ms/step - loss: 0.1251 - categorical_accuracy: 0.9541\n",
      "Epoch 58/122\n",
      "7/7 [==============================] - 0s 28ms/step - loss: 0.1006 - categorical_accuracy: 0.9633\n",
      "Epoch 59/122\n",
      "7/7 [==============================] - 0s 28ms/step - loss: 0.0856 - categorical_accuracy: 0.9817\n",
      "Epoch 60/122\n",
      "7/7 [==============================] - 0s 28ms/step - loss: 0.0675 - categorical_accuracy: 0.9817\n",
      "Epoch 61/122\n",
      "7/7 [==============================] - 0s 28ms/step - loss: 0.0933 - categorical_accuracy: 0.9817\n",
      "Epoch 62/122\n",
      "7/7 [==============================] - 0s 28ms/step - loss: 0.0725 - categorical_accuracy: 0.9817\n",
      "Epoch 63/122\n",
      "7/7 [==============================] - 0s 28ms/step - loss: 0.1139 - categorical_accuracy: 0.9587\n",
      "Epoch 64/122\n",
      "7/7 [==============================] - 0s 28ms/step - loss: 0.0859 - categorical_accuracy: 0.9771\n",
      "Epoch 65/122\n",
      "7/7 [==============================] - 0s 28ms/step - loss: 0.0749 - categorical_accuracy: 0.9771\n",
      "Epoch 66/122\n",
      "7/7 [==============================] - 0s 29ms/step - loss: 0.0592 - categorical_accuracy: 0.9862\n",
      "Epoch 67/122\n",
      "7/7 [==============================] - 0s 30ms/step - loss: 0.0503 - categorical_accuracy: 0.9862\n",
      "Epoch 68/122\n",
      "7/7 [==============================] - 0s 29ms/step - loss: 0.0502 - categorical_accuracy: 0.9862\n",
      "Epoch 69/122\n",
      "7/7 [==============================] - 0s 29ms/step - loss: 0.0452 - categorical_accuracy: 0.9862\n",
      "Epoch 70/122\n",
      "7/7 [==============================] - 0s 28ms/step - loss: 0.0497 - categorical_accuracy: 0.9862\n",
      "Epoch 71/122\n",
      "7/7 [==============================] - 0s 35ms/step - loss: 0.0425 - categorical_accuracy: 0.9908\n",
      "Epoch 72/122\n",
      "7/7 [==============================] - 0s 28ms/step - loss: 0.0387 - categorical_accuracy: 0.9862\n",
      "Epoch 73/122\n",
      "7/7 [==============================] - 0s 28ms/step - loss: 0.0361 - categorical_accuracy: 0.9908\n",
      "Epoch 74/122\n",
      "7/7 [==============================] - 0s 28ms/step - loss: 0.1271 - categorical_accuracy: 0.9541\n",
      "Epoch 75/122\n",
      "7/7 [==============================] - 0s 27ms/step - loss: 0.1299 - categorical_accuracy: 0.9679\n",
      "Epoch 76/122\n",
      "7/7 [==============================] - 0s 28ms/step - loss: 0.0887 - categorical_accuracy: 0.9725\n",
      "Epoch 77/122\n",
      "7/7 [==============================] - 0s 27ms/step - loss: 0.0652 - categorical_accuracy: 0.9862\n",
      "Epoch 78/122\n",
      "7/7 [==============================] - 0s 28ms/step - loss: 0.0531 - categorical_accuracy: 0.9862\n",
      "Epoch 79/122\n",
      "7/7 [==============================] - 0s 27ms/step - loss: 0.0703 - categorical_accuracy: 0.9771\n",
      "Epoch 80/122\n",
      "7/7 [==============================] - 0s 27ms/step - loss: 0.0474 - categorical_accuracy: 0.9862\n",
      "Epoch 81/122\n",
      "7/7 [==============================] - 0s 31ms/step - loss: 0.0418 - categorical_accuracy: 0.9908\n",
      "Epoch 82/122\n",
      "7/7 [==============================] - 0s 27ms/step - loss: 0.0385 - categorical_accuracy: 0.9862\n",
      "Epoch 83/122\n",
      "7/7 [==============================] - 0s 27ms/step - loss: 0.0291 - categorical_accuracy: 0.9908\n",
      "Epoch 84/122\n",
      "7/7 [==============================] - 0s 29ms/step - loss: 0.0274 - categorical_accuracy: 0.9954\n",
      "Epoch 85/122\n",
      "7/7 [==============================] - 0s 28ms/step - loss: 0.0160 - categorical_accuracy: 0.9954\n",
      "Epoch 86/122\n",
      "7/7 [==============================] - 0s 28ms/step - loss: 0.0294 - categorical_accuracy: 0.9908\n",
      "Epoch 87/122\n",
      "7/7 [==============================] - 0s 28ms/step - loss: 0.0423 - categorical_accuracy: 0.9862\n",
      "Epoch 88/122\n",
      "7/7 [==============================] - 0s 27ms/step - loss: 0.0154 - categorical_accuracy: 1.0000\n",
      "Epoch 89/122\n",
      "7/7 [==============================] - 0s 27ms/step - loss: 0.0398 - categorical_accuracy: 0.9908\n",
      "Epoch 90/122\n",
      "7/7 [==============================] - 0s 27ms/step - loss: 0.0695 - categorical_accuracy: 0.9771\n",
      "Epoch 91/122\n",
      "7/7 [==============================] - 0s 26ms/step - loss: 0.0136 - categorical_accuracy: 1.0000\n",
      "Epoch 92/122\n",
      "7/7 [==============================] - 0s 27ms/step - loss: 0.1386 - categorical_accuracy: 0.9725\n",
      "Epoch 93/122\n",
      "7/7 [==============================] - 0s 27ms/step - loss: 0.1001 - categorical_accuracy: 0.9725\n",
      "Epoch 94/122\n",
      "7/7 [==============================] - 0s 28ms/step - loss: 0.1249 - categorical_accuracy: 0.9495\n",
      "Epoch 95/122\n",
      "7/7 [==============================] - 0s 28ms/step - loss: 0.0363 - categorical_accuracy: 0.9954\n",
      "Epoch 96/122\n",
      "7/7 [==============================] - 0s 28ms/step - loss: 0.0668 - categorical_accuracy: 0.9862\n",
      "Epoch 97/122\n",
      "7/7 [==============================] - 0s 27ms/step - loss: 0.0224 - categorical_accuracy: 0.9954\n",
      "Epoch 98/122\n",
      "7/7 [==============================] - 0s 27ms/step - loss: 0.0676 - categorical_accuracy: 0.9771\n",
      "Epoch 99/122\n",
      "7/7 [==============================] - 0s 27ms/step - loss: 0.0616 - categorical_accuracy: 0.9817\n",
      "Epoch 100/122\n",
      "7/7 [==============================] - 0s 29ms/step - loss: 0.1290 - categorical_accuracy: 0.9679\n",
      "Epoch 101/122\n",
      "7/7 [==============================] - 0s 27ms/step - loss: 0.1899 - categorical_accuracy: 0.9128\n",
      "Epoch 102/122\n",
      "7/7 [==============================] - 0s 27ms/step - loss: 0.1199 - categorical_accuracy: 0.9450\n",
      "Epoch 103/122\n",
      "7/7 [==============================] - 0s 28ms/step - loss: 0.1393 - categorical_accuracy: 0.9541\n",
      "Epoch 104/122\n",
      "7/7 [==============================] - 0s 28ms/step - loss: 0.1420 - categorical_accuracy: 0.9587\n",
      "Epoch 105/122\n",
      "7/7 [==============================] - 0s 28ms/step - loss: 0.1002 - categorical_accuracy: 0.9725\n",
      "Epoch 106/122\n",
      "7/7 [==============================] - 0s 28ms/step - loss: 0.0707 - categorical_accuracy: 0.9771\n",
      "Epoch 107/122\n",
      "7/7 [==============================] - 0s 28ms/step - loss: 0.0650 - categorical_accuracy: 0.9817\n",
      "Epoch 108/122\n",
      "7/7 [==============================] - 0s 28ms/step - loss: 0.0315 - categorical_accuracy: 0.9908\n",
      "Epoch 109/122\n",
      "7/7 [==============================] - 0s 27ms/step - loss: 0.0209 - categorical_accuracy: 0.9954\n",
      "Epoch 110/122\n",
      "7/7 [==============================] - 0s 28ms/step - loss: 0.0156 - categorical_accuracy: 0.9954\n",
      "Epoch 111/122\n",
      "7/7 [==============================] - 0s 28ms/step - loss: 0.0096 - categorical_accuracy: 0.9954\n",
      "Epoch 112/122\n",
      "7/7 [==============================] - 0s 27ms/step - loss: 0.0155 - categorical_accuracy: 0.9954\n",
      "Epoch 113/122\n",
      "7/7 [==============================] - 0s 27ms/step - loss: 0.0134 - categorical_accuracy: 0.9954\n",
      "Epoch 114/122\n",
      "7/7 [==============================] - 0s 28ms/step - loss: 0.0114 - categorical_accuracy: 0.9954\n",
      "Epoch 115/122\n",
      "7/7 [==============================] - 0s 27ms/step - loss: 0.0045 - categorical_accuracy: 1.0000\n",
      "Epoch 116/122\n",
      "7/7 [==============================] - 0s 28ms/step - loss: 0.2625 - categorical_accuracy: 0.9495\n",
      "Epoch 117/122\n",
      "7/7 [==============================] - 0s 28ms/step - loss: 2.9830 - categorical_accuracy: 0.3211\n",
      "Epoch 118/122\n",
      "7/7 [==============================] - 0s 27ms/step - loss: 1.6544 - categorical_accuracy: 0.2798\n",
      "Epoch 119/122\n",
      "7/7 [==============================] - 0s 28ms/step - loss: 1.3170 - categorical_accuracy: 0.3853\n",
      "Epoch 120/122\n",
      "7/7 [==============================] - 0s 28ms/step - loss: 0.9919 - categorical_accuracy: 0.6009\n",
      "Epoch 121/122\n",
      "7/7 [==============================] - 0s 27ms/step - loss: 1.0575 - categorical_accuracy: 0.4771\n",
      "Epoch 122/122\n",
      "7/7 [==============================] - 0s 27ms/step - loss: 1.0353 - categorical_accuracy: 0.5000\n"
     ]
    }
   ],
   "source": [
    "history_rnn=model_rnn.fit(X_train, y_train, epochs=122)"
   ]
  },
  {
   "cell_type": "code",
   "execution_count": 47,
   "id": "edc4e70a",
   "metadata": {},
   "outputs": [
    {
     "name": "stdout",
     "output_type": "stream",
     "text": [
      "Model: \"sequential_2\"\n",
      "_________________________________________________________________\n",
      " Layer (type)                Output Shape              Param #   \n",
      "=================================================================\n",
      " simple_rnn_3 (SimpleRNN)    (None, 30, 64)            110528    \n",
      "                                                                 \n",
      " simple_rnn_4 (SimpleRNN)    (None, 30, 128)           24704     \n",
      "                                                                 \n",
      " simple_rnn_5 (SimpleRNN)    (None, 64)                12352     \n",
      "                                                                 \n",
      " dense_5 (Dense)             (None, 64)                4160      \n",
      "                                                                 \n",
      " dense_6 (Dense)             (None, 32)                2080      \n",
      "                                                                 \n",
      " dense_7 (Dense)             (None, 8)                 264       \n",
      "                                                                 \n",
      "=================================================================\n",
      "Total params: 154,088\n",
      "Trainable params: 154,088\n",
      "Non-trainable params: 0\n",
      "_________________________________________________________________\n"
     ]
    }
   ],
   "source": [
    "model_rnn.summary()"
   ]
  },
  {
   "cell_type": "code",
   "execution_count": 48,
   "id": "661e7a9a",
   "metadata": {},
   "outputs": [],
   "source": [
    "result_rnn = model_rnn.predict(X_test) #rnn"
   ]
  },
  {
   "cell_type": "code",
   "execution_count": 51,
   "id": "b6652eed",
   "metadata": {},
   "outputs": [],
   "source": [
    "yhat_rnn = model_rnn.predict(X_test)\n",
    "yhat_rnn = numpy.argmax(yhat_rnn, axis=1).tolist()"
   ]
  },
  {
   "cell_type": "code",
   "execution_count": 52,
   "id": "0c100d40",
   "metadata": {},
   "outputs": [],
   "source": [
    "accuracy_rnn=accuracy_score(ytrue, yhat_rnn)"
   ]
  },
  {
   "cell_type": "markdown",
   "id": "c727f892",
   "metadata": {},
   "source": [
    "#### RNN Accuracy"
   ]
  },
  {
   "cell_type": "code",
   "execution_count": 53,
   "id": "a5796a42",
   "metadata": {},
   "outputs": [
    {
     "data": {
      "text/plain": [
       "0.5454545454545454"
      ]
     },
     "execution_count": 53,
     "metadata": {},
     "output_type": "execute_result"
    }
   ],
   "source": [
    "accuracy_rnn"
   ]
  },
  {
   "cell_type": "code",
   "execution_count": 74,
   "id": "3078292e",
   "metadata": {},
   "outputs": [],
   "source": [
    "model_rnn.save('final_rnn2.h5')"
   ]
  },
  {
   "cell_type": "code",
   "execution_count": 75,
   "id": "ac5cdec0",
   "metadata": {},
   "outputs": [],
   "source": [
    "model_rnn.load_weights('final_rnn2.h5')"
   ]
  },
  {
   "cell_type": "code",
   "execution_count": 57,
   "id": "84cef37a",
   "metadata": {
    "scrolled": true
   },
   "outputs": [
    {
     "data": {
      "text/plain": [
       "'Gracious'"
      ]
     },
     "execution_count": 57,
     "metadata": {},
     "output_type": "execute_result"
    }
   ],
   "source": [
    "signs[numpy.argmax(result_rnn[2])]"
   ]
  },
  {
   "cell_type": "code",
   "execution_count": 58,
   "id": "deb42527",
   "metadata": {},
   "outputs": [
    {
     "data": {
      "text/plain": [
       "'ok'"
      ]
     },
     "execution_count": 58,
     "metadata": {},
     "output_type": "execute_result"
    }
   ],
   "source": [
    "signs[numpy.argmax(y_test[2])]"
   ]
  }
 ],
 "metadata": {
  "kernelspec": {
   "display_name": "Python 3 (ipykernel)",
   "language": "python",
   "name": "python3"
  },
  "language_info": {
   "codemirror_mode": {
    "name": "ipython",
    "version": 3
   },
   "file_extension": ".py",
   "mimetype": "text/x-python",
   "name": "python",
   "nbconvert_exporter": "python",
   "pygments_lexer": "ipython3",
   "version": "3.11.5"
  }
 },
 "nbformat": 4,
 "nbformat_minor": 5
}
