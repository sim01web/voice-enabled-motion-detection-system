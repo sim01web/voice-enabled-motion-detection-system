{
 "cells": [
  {
   "cell_type": "code",
   "execution_count": 2,
   "id": "4538e73e",
   "metadata": {
    "collapsed": true
   },
   "outputs": [
    {
     "name": "stdout",
     "output_type": "stream",
     "text": [
      "Collecting mediapipe\n",
      "  Downloading mediapipe-0.8.11-cp38-cp38-win_amd64.whl (49.0 MB)\n",
      "Requirement already satisfied: matplotlib in d:\\anaconda\\lib\\site-packages (from mediapipe) (3.3.4)\n",
      "Requirement already satisfied: attrs>=19.1.0 in d:\\anaconda\\lib\\site-packages (from mediapipe) (20.3.0)\n",
      "Requirement already satisfied: protobuf<4,>=3.11 in d:\\anaconda\\lib\\site-packages (from mediapipe) (3.19.1)\n",
      "Requirement already satisfied: numpy in d:\\anaconda\\lib\\site-packages (from mediapipe) (1.19.1)\n",
      "Requirement already satisfied: absl-py in d:\\anaconda\\lib\\site-packages (from mediapipe) (0.15.0)\n",
      "Collecting opencv-contrib-python\n",
      "  Downloading opencv_contrib_python-4.6.0.66-cp36-abi3-win_amd64.whl (42.5 MB)\n",
      "Requirement already satisfied: six in d:\\anaconda\\lib\\site-packages (from absl-py->mediapipe) (1.15.0)\n",
      "Requirement already satisfied: pillow>=6.2.0 in d:\\anaconda\\lib\\site-packages (from matplotlib->mediapipe) (8.0.1)\n",
      "Collecting mediapipe\n",
      "  Using cached mediapipe-0.8.11-cp38-cp38-win_amd64.whl (49.0 MB)Requirement already satisfied: python-dateutil>=2.1 in d:\\anaconda\\lib\\site-packages (from matplotlib->mediapipe) (2.8.1)\n",
      "Requirement already satisfied: cycler>=0.10 in d:\\anaconda\\lib\\site-packages (from matplotlib->mediapipe) (0.10.0)\n",
      "Requirement already satisfied: pyparsing!=2.0.4,!=2.1.2,!=2.1.6,>=2.0.3 in d:\\anaconda\\lib\\site-packages (from matplotlib->mediapipe) (2.4.7)\n",
      "Requirement already satisfied: kiwisolver>=1.0.1 in d:\\anaconda\\lib\\site-packages (from matplotlib->mediapipe) (1.3.1)\n",
      "Installing collected packages: opencv-contrib-python, mediapipe\n",
      "Successfully installed mediapipe-0.8.11 opencv-contrib-python-4.6.0.66\n",
      "\n",
      "Requirement already satisfied: attrs>=19.1.0 in d:\\anaconda\\lib\\site-packages (from mediapipe) (20.3.0)\n",
      "Requirement already satisfied: numpy in d:\\anaconda\\lib\\site-packages (from mediapipe) (1.19.1)\n",
      "Requirement already satisfied: matplotlib in d:\\anaconda\\lib\\site-packages (from mediapipe) (3.3.4)\n",
      "Requirement already satisfied: absl-py in d:\\anaconda\\lib\\site-packages (from mediapipe) (0.15.0)\n",
      "Collecting opencv-contrib-python\n",
      "  Using cached opencv_contrib_python-4.6.0.66-cp36-abi3-win_amd64.whl (42.5 MB)\n",
      "Requirement already satisfied: protobuf<4,>=3.11 in d:\\anaconda\\lib\\site-packages (from mediapipe) (3.19.1)\n",
      "Requirement already satisfied: six in d:\\anaconda\\lib\\site-packages (from absl-py->mediapipe) (1.15.0)\n",
      "Requirement already satisfied: pyparsing!=2.0.4,!=2.1.2,!=2.1.6,>=2.0.3 in d:\\anaconda\\lib\\site-packages (from matplotlib->mediapipe) (2.4.7)\n",
      "Requirement already satisfied: python-dateutil>=2.1 in d:\\anaconda\\lib\\site-packages (from matplotlib->mediapipe) (2.8.1)\n",
      "Requirement already satisfied: kiwisolver>=1.0.1 in d:\\anaconda\\lib\\site-packages (from matplotlib->mediapipe) (1.3.1)\n",
      "Requirement already satisfied: cycler>=0.10 in d:\\anaconda\\lib\\site-packages (from matplotlib->mediapipe) (0.10.0)\n",
      "Requirement already satisfied: pillow>=6.2.0 in d:\\anaconda\\lib\\site-packages (from matplotlib->mediapipe) (8.0.1)\n",
      "Installing collected packages: opencv-contrib-python, mediapipe\n",
      "Successfully installed mediapipe-0.8.11 opencv-contrib-python-4.6.0.66\n"
     ]
    }
   ],
   "source": [
    "!pip install mediapipe"
   ]
  },
  {
   "cell_type": "code",
   "execution_count": 40,
   "id": "604d80d4",
   "metadata": {},
   "outputs": [],
   "source": [
    "\n",
    "import cv2 \n",
    "import sklearn\n",
    "import numpy \n",
    "import os \n",
    "import mediapipe \n",
    "\n",
    "from essentials import get_feed,get_dots,get_dot\n",
    "\n",
    "from sklearn.model_selection import train_test_split \n",
    "\n",
    "\n"
   ]
  },
  {
   "cell_type": "code",
   "execution_count": 41,
   "id": "e0993865",
   "metadata": {},
   "outputs": [],
   "source": [
    "holistic_model = mediapipe.solutions.holistic\n",
    "draw_model = mediapipe.solutions.drawing_utils "
   ]
  },
  {
   "cell_type": "code",
   "execution_count": 44,
   "id": "bbb620ad",
   "metadata": {
    "scrolled": true
   },
   "outputs": [
    {
     "data": {
      "text/plain": [
       "frozenset({(0, 1),\n",
       "           (0, 4),\n",
       "           (1, 2),\n",
       "           (2, 3),\n",
       "           (3, 7),\n",
       "           (4, 5),\n",
       "           (5, 6),\n",
       "           (6, 8),\n",
       "           (9, 10),\n",
       "           (11, 12),\n",
       "           (11, 13),\n",
       "           (11, 23),\n",
       "           (12, 14),\n",
       "           (12, 24),\n",
       "           (13, 15),\n",
       "           (14, 16),\n",
       "           (15, 17),\n",
       "           (15, 19),\n",
       "           (15, 21),\n",
       "           (16, 18),\n",
       "           (16, 20),\n",
       "           (16, 22),\n",
       "           (17, 19),\n",
       "           (18, 20),\n",
       "           (23, 24),\n",
       "           (23, 25),\n",
       "           (24, 26),\n",
       "           (25, 27),\n",
       "           (26, 28),\n",
       "           (27, 29),\n",
       "           (27, 31),\n",
       "           (28, 30),\n",
       "           (28, 32),\n",
       "           (29, 31),\n",
       "           (30, 32)})"
      ]
     },
     "execution_count": 44,
     "metadata": {},
     "output_type": "execute_result"
    }
   ],
   "source": [
    "holistic_model.POSE_CONNECTIONS"
   ]
  },
  {
   "cell_type": "markdown",
   "id": "f80ea204",
   "metadata": {},
   "source": [
    "#### testing if everything works fine"
   ]
  },
  {
   "cell_type": "code",
   "execution_count": 45,
   "id": "0efe4314",
   "metadata": {
    "scrolled": true
   },
   "outputs": [
    {
     "name": "stdout",
     "output_type": "stream",
     "text": [
      "<class 'mediapipe.python.solution_base.SolutionOutputs'>\n",
      "<class 'mediapipe.python.solution_base.SolutionOutputs'>\n",
      "<class 'mediapipe.python.solution_base.SolutionOutputs'>\n",
      "<class 'mediapipe.python.solution_base.SolutionOutputs'>\n",
      "<class 'mediapipe.python.solution_base.SolutionOutputs'>\n",
      "<class 'mediapipe.python.solution_base.SolutionOutputs'>\n",
      "<class 'mediapipe.python.solution_base.SolutionOutputs'>\n",
      "<class 'mediapipe.python.solution_base.SolutionOutputs'>\n",
      "<class 'mediapipe.python.solution_base.SolutionOutputs'>\n",
      "<class 'mediapipe.python.solution_base.SolutionOutputs'>\n",
      "<class 'mediapipe.python.solution_base.SolutionOutputs'>\n",
      "<class 'mediapipe.python.solution_base.SolutionOutputs'>\n"
     ]
    }
   ],
   "source": [
    "vis = cv2.VideoCapture(0)\n",
    "with holistic_model.Holistic(min_detection_confidence=0.5, min_tracking_confidence=0.5) as h_model:\n",
    "    while vis.isOpened():\n",
    "        k, image = vis.read()\n",
    "\n",
    "        image, out = get_feed(image, h_model)\n",
    "        print(out)\n",
    "        \n",
    "        get_dots(image,out)\n",
    "        cv2.imshow('screen',image)\n",
    "\n",
    "        if cv2.waitKey(10) & 0xFF == ord('q'):\n",
    "                break\n",
    "    vis.release()\n",
    "    cv2.destroyAllWindows() "
   ]
  },
  {
   "cell_type": "code",
   "execution_count": 46,
   "id": "9d2b002e",
   "metadata": {},
   "outputs": [],
   "source": [
    "vis.release()\n",
    "\n",
    "cv2.destroyAllWindows() "
   ]
  },
  {
   "cell_type": "markdown",
   "id": "db325180",
   "metadata": {},
   "source": [
    "#### creating paths"
   ]
  },
  {
   "cell_type": "code",
   "execution_count": 48,
   "id": "68310ce1",
   "metadata": {},
   "outputs": [],
   "source": [
    "### DON\"T RUN\n",
    "\n",
    "address = os.path.join('Sign_data') \n",
    "\n",
    "signs = numpy.array(['salute','ok' ,'love you'])\n",
    "\n",
    "# videos,fps,home =30,30,30\n",
    "videos,fps,home =2,30,30"
   ]
  },
  {
   "cell_type": "code",
   "execution_count": 49,
   "id": "5657df74",
   "metadata": {},
   "outputs": [],
   "source": [
    "for i in signs: \n",
    "    for j in range(videos):\n",
    "        try: \n",
    "            os.makedirs(os.path.join(address, i, str(j)))\n",
    "        except:\n",
    "            pass"
   ]
  },
  {
   "cell_type": "markdown",
   "id": "18624d5e",
   "metadata": {},
   "source": [
    "### Data collection starts"
   ]
  },
  {
   "cell_type": "code",
   "execution_count": 50,
   "id": "980d6b81",
   "metadata": {},
   "outputs": [],
   "source": [
    "\n",
    "\n",
    "vis = cv2.VideoCapture(0)\n",
    "\n",
    "with holistic_model.Holistic(min_detection_confidence=0.5, min_tracking_confidence=0.5) as h_model:\n",
    "\n",
    "    for action in signs:\n",
    "\n",
    "        for sequence in range(videos):\n",
    "            for x in range(fps):\n",
    "                k, image = vis.read()\n",
    "                image, out = get_feed(image, h_model)\n",
    "                get_dots(image, out)\n",
    "                if x == 0: \n",
    "                    cv2.putText(image, 'WAIT', (299,199), \n",
    "                               cv2.FONT_HERSHEY_PLAIN , 4, (1,255, 1), 2, cv2.LINE_AA)\n",
    "                    cv2.putText(image, str(action)+\" : \"+ str(sequence), (5,20), \n",
    "                               cv2.FONT_HERSHEY_PLAIN , 1, (1, 1, 266), 1, cv2.LINE_AA)\n",
    "                    cv2.imshow('screen', image)\n",
    "                    cv2.waitKey(555)\n",
    "                else: \n",
    "                    cv2.putText(image, str(action)+\" : \"+ str(sequence), (5,20), cv2.FONT_HERSHEY_PLAIN , 1, (1,1 , 266), 1, cv2.LINE_AA)\n",
    "                    cv2.imshow('screen', image)\n",
    "                dots = get_dot(out)\n",
    "                npy_path = os.path.join(address, action, str(sequence), str(x))\n",
    "                numpy.save(npy_path, dots)\n",
    "                if cv2.waitKey(10) & 0xFF == ord('q'):\n",
    "                    break\n",
    "                    \n",
    "    vis.release()\n",
    "    cv2.destroyAllWindows()"
   ]
  },
  {
   "cell_type": "code",
   "execution_count": 17,
   "id": "ac10d793",
   "metadata": {},
   "outputs": [],
   "source": [
    "vis.release()\n",
    "cv2.destroyAllWindows()"
   ]
  },
  {
   "cell_type": "code",
   "execution_count": 30,
   "id": "f28e10c3",
   "metadata": {},
   "outputs": [],
   "source": [
    "enc = {l:n for n, l in enumerate(signs)}"
   ]
  },
  {
   "cell_type": "code",
   "execution_count": 31,
   "id": "76732a14",
   "metadata": {},
   "outputs": [
    {
     "data": {
      "text/plain": [
       "{'salute': 0, 'ok': 1, 'love you': 2}"
      ]
     },
     "execution_count": 31,
     "metadata": {},
     "output_type": "execute_result"
    }
   ],
   "source": [
    "enc\n"
   ]
  },
  {
   "cell_type": "code",
   "execution_count": 32,
   "id": "493e9575",
   "metadata": {},
   "outputs": [],
   "source": [
    "seq, numbers = [], []\n",
    "for action in signs:\n",
    "    for s in range(videos):\n",
    "        lst = []\n",
    "        for x in range(fps):\n",
    "            r = numpy.load(os.path.join(address, action, str(s), \"{}.npy\".format(x)))\n",
    "            lst.append(r)\n",
    "        seq.append(lst)\n",
    "        numbers.append(enc[action])"
   ]
  },
  {
   "cell_type": "code",
   "execution_count": 33,
   "id": "ce78ef4b",
   "metadata": {},
   "outputs": [
    {
     "data": {
      "text/plain": [
       "[0, 0, 0, 0, 0, 1, 1, 1, 1, 1, 2, 2, 2, 2, 2]"
      ]
     },
     "execution_count": 33,
     "metadata": {},
     "output_type": "execute_result"
    }
   ],
   "source": [
    "numbers"
   ]
  },
  {
   "cell_type": "code",
   "execution_count": 34,
   "id": "ba5738a0",
   "metadata": {},
   "outputs": [],
   "source": [
    "X = numpy.array(seq)"
   ]
  },
  {
   "cell_type": "code",
   "execution_count": 35,
   "id": "608b8864",
   "metadata": {},
   "outputs": [
    {
     "data": {
      "text/plain": [
       "(15, 30, 1662)"
      ]
     },
     "execution_count": 35,
     "metadata": {},
     "output_type": "execute_result"
    }
   ],
   "source": [
    "X.shape"
   ]
  },
  {
   "cell_type": "code",
   "execution_count": 36,
   "id": "2cd0aa8f",
   "metadata": {},
   "outputs": [
    {
     "data": {
      "text/plain": [
       "(15, 30, 1662)"
      ]
     },
     "execution_count": 36,
     "metadata": {},
     "output_type": "execute_result"
    }
   ],
   "source": [
    "X.shape"
   ]
  },
  {
   "cell_type": "code",
   "execution_count": 23,
   "id": "47e7f37c",
   "metadata": {},
   "outputs": [],
   "source": [
    "y = encode(numbers).astype(int)"
   ]
  },
  {
   "cell_type": "code",
   "execution_count": 24,
   "id": "52859121",
   "metadata": {
    "scrolled": true
   },
   "outputs": [
    {
     "data": {
      "text/plain": [
       "array([[1, 0, 0, ..., 0, 0, 0],\n",
       "       [1, 0, 0, ..., 0, 0, 0],\n",
       "       [1, 0, 0, ..., 0, 0, 0],\n",
       "       ...,\n",
       "       [0, 0, 0, ..., 0, 0, 1],\n",
       "       [0, 0, 0, ..., 0, 0, 1],\n",
       "       [0, 0, 0, ..., 0, 0, 1]])"
      ]
     },
     "execution_count": 24,
     "metadata": {},
     "output_type": "execute_result"
    }
   ],
   "source": [
    "y"
   ]
  },
  {
   "cell_type": "code",
   "execution_count": 25,
   "id": "347a0ce4",
   "metadata": {},
   "outputs": [],
   "source": [
    "X_train, X_test, y_train, y_test = train_test_split(X, y, test_size=0.09,random_state=0)"
   ]
  },
  {
   "cell_type": "code",
   "execution_count": 26,
   "id": "1bcada18",
   "metadata": {},
   "outputs": [
    {
     "data": {
      "text/plain": [
       "(22, 8)"
      ]
     },
     "execution_count": 26,
     "metadata": {},
     "output_type": "execute_result"
    }
   ],
   "source": [
    "y_test.shape"
   ]
  },
  {
   "cell_type": "code",
   "execution_count": 38,
   "id": "cd3b9860",
   "metadata": {},
   "outputs": [
    {
     "data": {
      "text/plain": [
       "array([ 0.53885943,  0.55004472, -1.23177278, ...,  0.556871  ,\n",
       "        0.72811037, -0.04376552])"
      ]
     },
     "execution_count": 38,
     "metadata": {},
     "output_type": "execute_result"
    }
   ],
   "source": [
    "r"
   ]
  },
  {
   "cell_type": "code",
   "execution_count": 39,
   "id": "e1e85d9f",
   "metadata": {},
   "outputs": [
    {
     "data": {
      "text/plain": [
       "'newdata\\\\love you\\\\4\\\\29'"
      ]
     },
     "execution_count": 39,
     "metadata": {},
     "output_type": "execute_result"
    }
   ],
   "source": [
    "npy_path"
   ]
  },
  {
   "cell_type": "code",
   "execution_count": null,
   "id": "dc8a3872",
   "metadata": {},
   "outputs": [],
   "source": []
  }
 ],
 "metadata": {
  "kernelspec": {
   "display_name": "Python 3 (ipykernel)",
   "language": "python",
   "name": "python3"
  },
  "language_info": {
   "codemirror_mode": {
    "name": "ipython",
    "version": 3
   },
   "file_extension": ".py",
   "mimetype": "text/x-python",
   "name": "python",
   "nbconvert_exporter": "python",
   "pygments_lexer": "ipython3",
   "version": "3.11.5"
  }
 },
 "nbformat": 4,
 "nbformat_minor": 5
}
