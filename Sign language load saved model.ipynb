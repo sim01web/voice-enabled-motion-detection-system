{
 "cells": [
  {
   "cell_type": "code",
   "execution_count": 1,
   "id": "4538e73e",
   "metadata": {},
   "outputs": [],
   "source": [
    "\n",
    "# !pip install translate"
   ]
  },
  {
   "cell_type": "code",
   "execution_count": 24,
   "id": "604d80d4",
   "metadata": {},
   "outputs": [],
   "source": [
    "\n",
    "import cv2 \n",
    "import sklearn\n",
    "import numpy \n",
    "import os \n",
    "import matplotlib.pyplot as plt\n",
    "import mediapipe as medpip\n",
    "\n",
    "from essentials import get_feed,get_dots,get_dot\n",
    "\n",
    "from sklearn.model_selection import train_test_split \n",
    "from tensorflow.keras.utils import to_categorical as encode\n",
    "from tensorflow.keras.models import Sequential \n",
    "from tensorflow.keras.layers import LSTM, Dense,SimpleRNN\n",
    "from sklearn.metrics import multilabel_confusion_matrix, accuracy_score\n",
    "\n",
    "\n",
    "\n",
    "from translate import Translator\n",
    "from win32com.client import Dispatch\n",
    "import pickle\n",
    "from IPython.display import Image\n",
    "\n",
    "import warnings\n",
    "warnings.filterwarnings(\"ignore\")\n"
   ]
  },
  {
   "cell_type": "code",
   "execution_count": 3,
   "id": "e0993865",
   "metadata": {},
   "outputs": [],
   "source": [
    "holistic_model = medpip.solutions.holistic\n",
    "draw_model = medpip.solutions.drawing_utils "
   ]
  },
  {
   "cell_type": "code",
   "execution_count": 6,
   "id": "bbb620ad",
   "metadata": {
    "scrolled": true
   },
   "outputs": [
    {
     "data": {
      "text/plain": [
       "frozenset({(0, 1),\n",
       "           (0, 4),\n",
       "           (1, 2),\n",
       "           (2, 3),\n",
       "           (3, 7),\n",
       "           (4, 5),\n",
       "           (5, 6),\n",
       "           (6, 8),\n",
       "           (9, 10),\n",
       "           (11, 12),\n",
       "           (11, 13),\n",
       "           (11, 23),\n",
       "           (12, 14),\n",
       "           (12, 24),\n",
       "           (13, 15),\n",
       "           (14, 16),\n",
       "           (15, 17),\n",
       "           (15, 19),\n",
       "           (15, 21),\n",
       "           (16, 18),\n",
       "           (16, 20),\n",
       "           (16, 22),\n",
       "           (17, 19),\n",
       "           (18, 20),\n",
       "           (23, 24),\n",
       "           (23, 25),\n",
       "           (24, 26),\n",
       "           (25, 27),\n",
       "           (26, 28),\n",
       "           (27, 29),\n",
       "           (27, 31),\n",
       "           (28, 30),\n",
       "           (28, 32),\n",
       "           (29, 31),\n",
       "           (30, 32)})"
      ]
     },
     "execution_count": 6,
     "metadata": {},
     "output_type": "execute_result"
    }
   ],
   "source": [
    "holistic_model.POSE_CONNECTIONS"
   ]
  },
  {
   "cell_type": "markdown",
   "id": "f80ea204",
   "metadata": {},
   "source": [
    "#### testing if everything works fine"
   ]
  },
  {
   "cell_type": "code",
   "execution_count": 7,
   "id": "0efe4314",
   "metadata": {
    "collapsed": true
   },
   "outputs": [
    {
     "name": "stdout",
     "output_type": "stream",
     "text": [
      "<class 'mediapipe.python.solution_base.SolutionOutputs'>\n",
      "<class 'mediapipe.python.solution_base.SolutionOutputs'>\n",
      "<class 'mediapipe.python.solution_base.SolutionOutputs'>\n",
      "<class 'mediapipe.python.solution_base.SolutionOutputs'>\n",
      "<class 'mediapipe.python.solution_base.SolutionOutputs'>\n",
      "<class 'mediapipe.python.solution_base.SolutionOutputs'>\n",
      "<class 'mediapipe.python.solution_base.SolutionOutputs'>\n",
      "<class 'mediapipe.python.solution_base.SolutionOutputs'>\n",
      "<class 'mediapipe.python.solution_base.SolutionOutputs'>\n",
      "<class 'mediapipe.python.solution_base.SolutionOutputs'>\n",
      "<class 'mediapipe.python.solution_base.SolutionOutputs'>\n",
      "<class 'mediapipe.python.solution_base.SolutionOutputs'>\n",
      "<class 'mediapipe.python.solution_base.SolutionOutputs'>\n",
      "<class 'mediapipe.python.solution_base.SolutionOutputs'>\n",
      "<class 'mediapipe.python.solution_base.SolutionOutputs'>\n",
      "<class 'mediapipe.python.solution_base.SolutionOutputs'>\n",
      "<class 'mediapipe.python.solution_base.SolutionOutputs'>\n",
      "<class 'mediapipe.python.solution_base.SolutionOutputs'>\n",
      "<class 'mediapipe.python.solution_base.SolutionOutputs'>\n",
      "<class 'mediapipe.python.solution_base.SolutionOutputs'>\n",
      "<class 'mediapipe.python.solution_base.SolutionOutputs'>\n",
      "<class 'mediapipe.python.solution_base.SolutionOutputs'>\n",
      "<class 'mediapipe.python.solution_base.SolutionOutputs'>\n"
     ]
    }
   ],
   "source": [
    "# press Q to break\n",
    "vis = cv2.VideoCapture(0)\n",
    "with holistic_model.Holistic(min_detection_confidence=0.5, min_tracking_confidence=0.5) as h_model:\n",
    "    while vis.isOpened():\n",
    "\n",
    "            # Read feed\n",
    "        k, image = vis.read()\n",
    "\n",
    "        image, out = get_feed(image, h_model)\n",
    "        print(out)\n",
    "        \n",
    "        get_dots(image,out)\n",
    "            # Show to screen\n",
    "        cv2.imshow('screen',image)\n",
    "\n",
    "            # Break gracefully\n",
    "        if cv2.waitKey(10) & 0xFF == ord('q'):\n",
    "                break\n",
    "    vis.release()\n",
    "    cv2.destroyAllWindows() "
   ]
  },
  {
   "cell_type": "code",
   "execution_count": 8,
   "id": "9d2b002e",
   "metadata": {},
   "outputs": [],
   "source": [
    "vis.release()\n",
    "\n",
    "cv2.destroyAllWindows() "
   ]
  },
  {
   "cell_type": "markdown",
   "id": "db325180",
   "metadata": {},
   "source": [
    "#### creating paths"
   ]
  },
  {
   "cell_type": "code",
   "execution_count": 10,
   "id": "68310ce1",
   "metadata": {},
   "outputs": [],
   "source": [
    "address = os.path.join('newdata') \n",
    "\n",
    "signs = numpy.array(['salute','ok' ,'love you','come','Namsate','Gracious','You','Me'])\n",
    "\n",
    "videos,fps,home =30,30,30"
   ]
  },
  {
   "cell_type": "markdown",
   "id": "ee5fc511",
   "metadata": {},
   "source": [
    "### LSTM"
   ]
  },
  {
   "cell_type": "code",
   "execution_count": 11,
   "id": "e8ac2943",
   "metadata": {},
   "outputs": [
    {
     "name": "stdout",
     "output_type": "stream",
     "text": [
      "WARNING:tensorflow:From C:\\Anaconda\\Lib\\site-packages\\keras\\src\\backend.py:873: The name tf.get_default_graph is deprecated. Please use tf.compat.v1.get_default_graph instead.\n",
      "\n"
     ]
    }
   ],
   "source": [
    "lstm = Sequential()\n",
    "lstm.add(LSTM(64, return_sequences=True, activation='relu', input_shape=(30,1662)))\n",
    "lstm.add(LSTM(128, return_sequences=True, activation='relu'))\n",
    "lstm.add(LSTM(64, return_sequences=False, activation='relu'))\n",
    "lstm.add(Dense(64, activation='relu'))\n",
    "lstm.add(Dense(32, activation='relu'))\n",
    "lstm.add(Dense(signs.shape[0], activation='softmax'))"
   ]
  },
  {
   "cell_type": "code",
   "execution_count": 12,
   "id": "1f68cea6",
   "metadata": {},
   "outputs": [
    {
     "name": "stdout",
     "output_type": "stream",
     "text": [
      "WARNING:tensorflow:From C:\\Anaconda\\Lib\\site-packages\\keras\\src\\optimizers\\__init__.py:309: The name tf.train.Optimizer is deprecated. Please use tf.compat.v1.train.Optimizer instead.\n",
      "\n"
     ]
    }
   ],
   "source": [
    "lstm.compile(optimizer='Adam', loss='categorical_crossentropy', metrics=['categorical_accuracy'])"
   ]
  },
  {
   "cell_type": "code",
   "execution_count": 13,
   "id": "3669d8ae",
   "metadata": {},
   "outputs": [
    {
     "name": "stdout",
     "output_type": "stream",
     "text": [
      "Model: \"sequential\"\n",
      "_________________________________________________________________\n",
      " Layer (type)                Output Shape              Param #   \n",
      "=================================================================\n",
      " lstm (LSTM)                 (None, 30, 64)            442112    \n",
      "                                                                 \n",
      " lstm_1 (LSTM)               (None, 30, 128)           98816     \n",
      "                                                                 \n",
      " lstm_2 (LSTM)               (None, 64)                49408     \n",
      "                                                                 \n",
      " dense (Dense)               (None, 64)                4160      \n",
      "                                                                 \n",
      " dense_1 (Dense)             (None, 32)                2080      \n",
      "                                                                 \n",
      " dense_2 (Dense)             (None, 8)                 264       \n",
      "                                                                 \n",
      "=================================================================\n",
      "Total params: 596840 (2.28 MB)\n",
      "Trainable params: 596840 (2.28 MB)\n",
      "Non-trainable params: 0 (0.00 Byte)\n",
      "_________________________________________________________________\n"
     ]
    }
   ],
   "source": [
    "lstm.summary()"
   ]
  },
  {
   "cell_type": "code",
   "execution_count": 14,
   "id": "e3b06b9b",
   "metadata": {},
   "outputs": [],
   "source": [
    "lstm.load_weights(\"D:/Python/motion/motion sign language detection/motion sign language detection/8signsworkfine.h5\")"
   ]
  },
  {
   "cell_type": "code",
   "execution_count": 26,
   "id": "b7f7a1b7",
   "metadata": {},
   "outputs": [
    {
     "data": {
      "text/plain": [
       "[<matplotlib.lines.Line2D at 0x1efbd5bc430>]"
      ]
     },
     "execution_count": 26,
     "metadata": {},
     "output_type": "execute_result"
    },
    {
     "data": {
      "image/png": "[encoded data removed]",
      "text/plain": [
       "<Figure size 432x288 with 1 Axes>"
      ]
     },
     "metadata": {
      "needs_background": "light"
     },
     "output_type": "display_data"
    }
   ],
   "source": [
    "# dont run this\n",
    "\n",
    "plt.plot(history.history['loss'])"
   ]
  },
  {
   "cell_type": "code",
   "execution_count": 27,
   "id": "0e8279d4",
   "metadata": {},
   "outputs": [
    {
     "data": {
      "text/plain": [
       "[<matplotlib.lines.Line2D at 0x1ef9c6af460>]"
      ]
     },
     "execution_count": 27,
     "metadata": {},
     "output_type": "execute_result"
    },
    {
     "data": {
      "image/png": "[encoded data removed]",
      "text/plain": [
       "<Figure size 432x288 with 1 Axes>"
      ]
     },
     "metadata": {
      "needs_background": "light"
     },
     "output_type": "display_data"
    }
   ],
   "source": [
    "# don't runt his\n",
    "plt.plot(history.history['categorical_accuracy'])"
   ]
  },
  {
   "cell_type": "code",
   "execution_count": 4,
   "id": "74a47315",
   "metadata": {},
   "outputs": [
    {
     "data": {
      "image/png": "[encoded data removed]",
      "text/plain": [
       "<IPython.core.display.Image object>"
      ]
     },
     "execution_count": 4,
     "metadata": {},
     "output_type": "execute_result"
    }
   ],
   "source": [
    "# green is actual value and orange is predicted value\n",
    "Image(filename='LSTM_scatterplot.png') "
   ]
  },
  {
   "cell_type": "markdown",
   "id": "85b0d9a3",
   "metadata": {},
   "source": [
    "#### LSTM Accuracy"
   ]
  },
  {
   "cell_type": "code",
   "execution_count": 5,
   "id": "76fe50dd",
   "metadata": {},
   "outputs": [
    {
     "data": {
      "text/plain": [
       "0.84"
      ]
     },
     "execution_count": 5,
     "metadata": {},
     "output_type": "execute_result"
    }
   ],
   "source": [
    "#don't run this\n",
    "accuracy_score(ytrue, y_new)"
   ]
  },
  {
   "cell_type": "code",
   "execution_count": 15,
   "id": "d55a04e5",
   "metadata": {},
   "outputs": [],
   "source": [
    "accuracy_lstm=0.84"
   ]
  },
  {
   "cell_type": "markdown",
   "id": "0288d8c0",
   "metadata": {},
   "source": [
    "### RNN model"
   ]
  },
  {
   "cell_type": "code",
   "execution_count": 16,
   "id": "b617b7d2",
   "metadata": {},
   "outputs": [],
   "source": [
    "model_rnn = Sequential()\n",
    "model_rnn.add(SimpleRNN(64, return_sequences=True, activation='relu', input_shape=(30,1662)))\n",
    "model_rnn.add(SimpleRNN(128, return_sequences=True, activation='relu'))\n",
    "model_rnn.add(SimpleRNN(64, return_sequences=False, activation='relu'))\n",
    "model_rnn.add(Dense(64, activation='relu'))\n",
    "model_rnn.add(Dense(32, activation='relu'))\n",
    "model_rnn.add(Dense(signs.shape[0], activation='softmax'))"
   ]
  },
  {
   "cell_type": "code",
   "execution_count": 17,
   "id": "ccc36c4f",
   "metadata": {},
   "outputs": [],
   "source": [
    "model_rnn.compile(optimizer='Adam', loss='categorical_crossentropy', metrics=['categorical_accuracy'])"
   ]
  },
  {
   "cell_type": "code",
   "execution_count": 18,
   "id": "5b90ebee",
   "metadata": {},
   "outputs": [
    {
     "name": "stdout",
     "output_type": "stream",
     "text": [
      "Model: \"sequential_1\"\n",
      "_________________________________________________________________\n",
      " Layer (type)                Output Shape              Param #   \n",
      "=================================================================\n",
      " simple_rnn (SimpleRNN)      (None, 30, 64)            110528    \n",
      "                                                                 \n",
      " simple_rnn_1 (SimpleRNN)    (None, 30, 128)           24704     \n",
      "                                                                 \n",
      " simple_rnn_2 (SimpleRNN)    (None, 64)                12352     \n",
      "                                                                 \n",
      " dense_3 (Dense)             (None, 64)                4160      \n",
      "                                                                 \n",
      " dense_4 (Dense)             (None, 32)                2080      \n",
      "                                                                 \n",
      " dense_5 (Dense)             (None, 8)                 264       \n",
      "                                                                 \n",
      "=================================================================\n",
      "Total params: 154088 (601.91 KB)\n",
      "Trainable params: 154088 (601.91 KB)\n",
      "Non-trainable params: 0 (0.00 Byte)\n",
      "_________________________________________________________________\n"
     ]
    }
   ],
   "source": [
    "model_rnn.summary()"
   ]
  },
  {
   "cell_type": "code",
   "execution_count": 40,
   "id": "1d143770",
   "metadata": {},
   "outputs": [],
   "source": [
    "model_rnn.load_weights('final_rnn2.h5')"
   ]
  },
  {
   "cell_type": "markdown",
   "id": "c16d0385",
   "metadata": {},
   "source": [
    "#### RNN Accuracy"
   ]
  },
  {
   "cell_type": "code",
   "execution_count": 44,
   "id": "d1e85c5e",
   "metadata": {},
   "outputs": [
    {
     "data": {
      "text/plain": [
       "0.5454545454545454"
      ]
     },
     "execution_count": 44,
     "metadata": {},
     "output_type": "execute_result"
    }
   ],
   "source": [
    "accuracy_rnn"
   ]
  },
  {
   "cell_type": "code",
   "execution_count": 19,
   "id": "0b71d315",
   "metadata": {},
   "outputs": [],
   "source": [
    "accuracy_rnn=0.54"
   ]
  },
  {
   "cell_type": "code",
   "execution_count": 5,
   "id": "49256274",
   "metadata": {},
   "outputs": [
    {
     "data": {
      "image/png": "[encoded data removed]",
      "text/plain": [
       "<IPython.core.display.Image object>"
      ]
     },
     "execution_count": 5,
     "metadata": {},
     "output_type": "execute_result"
    }
   ],
   "source": [
    "Image(filename='RNN_loss.png') "
   ]
  },
  {
   "cell_type": "code",
   "execution_count": 6,
   "id": "d5df86b3",
   "metadata": {},
   "outputs": [
    {
     "data": {
      "image/png": "[encoded data removed]",
      "text/plain": [
       "<IPython.core.display.Image object>"
      ]
     },
     "execution_count": 6,
     "metadata": {},
     "output_type": "execute_result"
    }
   ],
   "source": [
    "Image(filename='RNN_accuracy.png') "
   ]
  },
  {
   "cell_type": "code",
   "execution_count": 7,
   "id": "97c74058",
   "metadata": {},
   "outputs": [
    {
     "data": {
      "image/png": "[encoded data removed]",
      "text/plain": [
       "<IPython.core.display.Image object>"
      ]
     },
     "execution_count": 7,
     "metadata": {},
     "output_type": "execute_result"
    }
   ],
   "source": [
    "# green is actual value and orange is predicted value\n",
    "Image(filename='RNN_Scatterplot.png')  "
   ]
  },
  {
   "cell_type": "markdown",
   "id": "4e8ad4ce",
   "metadata": {},
   "source": [
    "#### LSTM vs RNN Loss"
   ]
  },
  {
   "cell_type": "code",
   "execution_count": 8,
   "id": "2fcbda68",
   "metadata": {},
   "outputs": [
    {
     "data": {
      "image/png": "[encoded data removed]",
      "text/plain": [
       "<IPython.core.display.Image object>"
      ]
     },
     "execution_count": 8,
     "metadata": {},
     "output_type": "execute_result"
    }
   ],
   "source": [
    "# Blue is LSTM orange is RNN\n",
    "Image(filename='LSTM vs Rnn loss.png') "
   ]
  },
  {
   "cell_type": "markdown",
   "id": "b8d51e20",
   "metadata": {},
   "source": [
    "### Show LSTM or RNN performance"
   ]
  },
  {
   "cell_type": "code",
   "execution_count": 20,
   "id": "45420c53",
   "metadata": {},
   "outputs": [],
   "source": [
    "def show_performance(model_name='RNN'):  \n",
    "\n",
    "    if model_name=='LSTM':\n",
    "        acc=accuracy_lstm\n",
    "\n",
    "    else:\n",
    "        model_name='RNN'\n",
    "        acc=accuracy_rnn\n",
    "        \n",
    "        \n",
    "        \n",
    "    colors = [(117,245,16), (117,245,16),(117,245,16), (117,245,16),(117,245,16), (117,245,16),(117,245,16), (117,245,16)]\n",
    "    def perf(y_pred, signs, input_frame, colors):\n",
    "        output_frame = input_frame.copy()\n",
    "        cv2.putText(output_frame, model_name+\" MODEL\", (5, 20), cv2.FONT_HERSHEY_PLAIN, 1, (255, 0, 0), 1, cv2.LINE_AA)\n",
    "        cv2.putText(output_frame, \"accuracy=\"+str(acc), (500, 20), cv2.FONT_HERSHEY_PLAIN, 1, (255, 0, 0), 1, cv2.LINE_AA)\n",
    "        for num, prob in enumerate(y_pred):\n",
    "            cv2.rectangle(output_frame, (0,60+num*40), (int(prob*100), 90+num*40), colors[num], -1)\n",
    "            cv2.putText(output_frame, signs[num], (0, 85+num*40), cv2.FONT_HERSHEY_PLAIN, 1, (255,255,255), 2, cv2.LINE_AA)\n",
    "\n",
    "        return output_frame\n",
    "    \n",
    "    \n",
    "    cont = []\n",
    "    line = []\n",
    "    detections = []\n",
    "\n",
    "    vis = cv2.VideoCapture(0)\n",
    "\n",
    "    with holistic_model.Holistic(min_detection_confidence=0.5, min_tracking_confidence=0.5) as h_model:\n",
    "        while vis.isOpened():\n",
    "\n",
    "            k, image = vis.read()\n",
    "\n",
    "            image, out = get_feed(image, h_model)\n",
    "\n",
    "            get_dots(image, out)\n",
    "\n",
    "            dots = get_dot(out)\n",
    "            cont.append(dots)\n",
    "            cont = cont[-30:]\n",
    "\n",
    "            if len(cont) == 30:\n",
    "                if model_name=='LSTM':\n",
    "                    res = lstm.predict(numpy.expand_dims(cont, axis=0))[0]\n",
    "                    print(\"Using LSTM\")\n",
    "                    print(signs[numpy.argmax(res)])\n",
    "                    detections.append(numpy.argmax(res))\n",
    "\n",
    "                else:\n",
    "                    res = model_rnn.predict(numpy.expand_dims(cont, axis=0))[0]\n",
    "                    print(\"Using RNN\")\n",
    "                    print(signs[numpy.argmax(res)])\n",
    "                    detections.append(numpy.argmax(res))\n",
    "\n",
    "\n",
    "                if numpy.unique(detections[-10:])[0]==numpy.argmax(res): \n",
    "                    if res[numpy.argmax(res)] > 0.5: \n",
    "\n",
    "                        if len(line) > 0: \n",
    "                            if signs[numpy.argmax(res)] != line[-1]:\n",
    "                                line.append(signs[numpy.argmax(res)])\n",
    "                        else:\n",
    "                            line.append(signs[numpy.argmax(res)])\n",
    "\n",
    "                if len(line) > 5: \n",
    "                    line = line[-5:]\n",
    "\n",
    "                image = perf(res, signs, image, colors)\n",
    "\n",
    "            cv2.imshow('screen', image)\n",
    "\n",
    "            if cv2.waitKey(10) & 0xFF == ord('q'):\n",
    "                break\n",
    "        vis.release()\n",
    "        cv2.destroyAllWindows()\n"
   ]
  },
  {
   "cell_type": "code",
   "execution_count": 21,
   "id": "871960fe",
   "metadata": {},
   "outputs": [],
   "source": [
    "def show_performance_with_voice(model_name='RNN'):  \n",
    "\n",
    "    if model_name=='LSTM':\n",
    "        acc=accuracy_lstm\n",
    "\n",
    "    else:\n",
    "        model_name='RNN'\n",
    "        acc=accuracy_rnn\n",
    "        \n",
    "        \n",
    "        \n",
    "    colors = [(117,245,16), (117,245,16),(117,245,16), (117,245,16),(117,245,16), (117,245,16),(117,245,16), (117,245,16)]\n",
    "    def perf(y_pred, signs, input_frame, colors):\n",
    "        output_frame = input_frame.copy()\n",
    "        cv2.putText(output_frame, model_name+\" MODEL\", (5, 20), cv2.FONT_HERSHEY_PLAIN, 1, (255, 0, 0), 1, cv2.LINE_AA)\n",
    "        cv2.putText(output_frame, \"accuracy=\"+str(acc), (500, 20), cv2.FONT_HERSHEY_PLAIN, 1, (255, 0, 0), 1, cv2.LINE_AA)\n",
    "        for num, prob in enumerate(y_pred):\n",
    "            cv2.rectangle(output_frame, (0,60+num*40), (int(prob*100), 90+num*40), colors[num], -1)\n",
    "            cv2.putText(output_frame, signs[num], (0, 85+num*40), cv2.FONT_HERSHEY_PLAIN, 1, (255,255,255), 2, cv2.LINE_AA)\n",
    "\n",
    "        return output_frame\n",
    "    \n",
    "    \n",
    "    cont = []\n",
    "    line = []\n",
    "    detections = []\n",
    "\n",
    "    vis = cv2.VideoCapture(0)\n",
    "\n",
    "    with holistic_model.Holistic(min_detection_confidence=0.5, min_tracking_confidence=0.5) as h_model:\n",
    "        while vis.isOpened():\n",
    "\n",
    "            k, image = vis.read()\n",
    "\n",
    "            image, out = get_feed(image, h_model)\n",
    "\n",
    "            get_dots(image, out)\n",
    "\n",
    "            dots = get_dot(out)\n",
    "            cont.append(dots)\n",
    "            cont = cont[-30:]\n",
    "\n",
    "            if len(cont) == 30:\n",
    "                if model_name=='LSTM':\n",
    "                    res = lstm.predict(numpy.expand_dims(cont, axis=0))[0]\n",
    "                    print(\"Using LSTM\")\n",
    "                    print(signs[numpy.argmax(res)])\n",
    "                    detections.append(numpy.argmax(res))\n",
    "                    speak = Dispatch(\"SAPI.SpVoice\").Speak\n",
    "                    speak(signs[numpy.argmax(res)])\n",
    "\n",
    "                    translator=Translator(to_lang='Spanish')\n",
    "                    translation=translator.translate(signs[numpy.argmax(res)])\n",
    "                    print(\"In Spanish: \"+ translation)\n",
    "                    speak(translation)\n",
    "\n",
    "                    translator=Translator(to_lang='German')\n",
    "                    translation=translator.translate(signs[numpy.argmax(res)])\n",
    "                    print(\"In German: \" +translation)\n",
    "                    speak(translation)\n",
    "                else:\n",
    "                    res = model_rnn.predict(numpy.expand_dims(cont, axis=0))[0]\n",
    "                    print(\"Using RNN\")\n",
    "                    print(signs[numpy.argmax(res)])\n",
    "                    detections.append(numpy.argmax(res))\n",
    "                    speak = Dispatch(\"SAPI.SpVoice\").Speak\n",
    "                    speak(signs[numpy.argmax(res)])\n",
    "\n",
    "                    translator=Translator(to_lang='Spanish')\n",
    "                    translation=translator.translate(signs[numpy.argmax(res)])\n",
    "                    print(\"In Spanish: \"+ translation)\n",
    "                    speak(translation)\n",
    "\n",
    "                    translator=Translator(to_lang='German')\n",
    "                    translation=translator.translate(signs[numpy.argmax(res)])\n",
    "                    print(\"In German: \" +translation)\n",
    "                    speak(translation)\n",
    "\n",
    "\n",
    "                if numpy.unique(detections[-10:])[0]==numpy.argmax(res): \n",
    "                    if res[numpy.argmax(res)] > 0.5: \n",
    "\n",
    "                        if len(line) > 0: \n",
    "                            if signs[numpy.argmax(res)] != line[-1]:\n",
    "                                line.append(signs[numpy.argmax(res)])\n",
    "                        else:\n",
    "                            line.append(signs[numpy.argmax(res)])\n",
    "\n",
    "                if len(line) > 5: \n",
    "                    line = line[-5:]\n",
    "\n",
    "                image = perf(res, signs, image, colors)\n",
    "\n",
    "            cv2.imshow('screen', image)\n",
    "\n",
    "            if cv2.waitKey(10) & 0xFF == ord('q'):\n",
    "                break\n",
    "        vis.release()\n",
    "        cv2.destroyAllWindows()\n"
   ]
  },
  {
   "cell_type": "code",
   "execution_count": 22,
   "id": "a422651b",
   "metadata": {},
   "outputs": [
    {
     "name": "stdout",
     "output_type": "stream",
     "text": [
      "1/1 [==============================] - 1s 1s/step\n",
      "Using LSTM\n",
      "ok\n",
      "1/1 [==============================] - 0s 52ms/step\n",
      "Using LSTM\n",
      "ok\n",
      "1/1 [==============================] - 0s 49ms/step\n",
      "Using LSTM\n",
      "ok\n",
      "1/1 [==============================] - 0s 52ms/step\n",
      "Using LSTM\n",
      "ok\n",
      "1/1 [==============================] - 0s 52ms/step\n",
      "Using LSTM\n",
      "ok\n",
      "1/1 [==============================] - 0s 71ms/step\n",
      "Using LSTM\n",
      "ok\n",
      "1/1 [==============================] - 0s 62ms/step\n",
      "Using LSTM\n",
      "ok\n",
      "1/1 [==============================] - 0s 50ms/step\n",
      "Using LSTM\n",
      "ok\n",
      "1/1 [==============================] - 0s 58ms/step\n",
      "Using LSTM\n",
      "ok\n",
      "1/1 [==============================] - 0s 54ms/step\n",
      "Using LSTM\n",
      "ok\n",
      "1/1 [==============================] - 0s 66ms/step\n",
      "Using LSTM\n",
      "ok\n",
      "1/1 [==============================] - 0s 72ms/step\n",
      "Using LSTM\n",
      "ok\n",
      "1/1 [==============================] - 0s 58ms/step\n",
      "Using LSTM\n",
      "ok\n",
      "1/1 [==============================] - 0s 63ms/step\n",
      "Using LSTM\n",
      "ok\n",
      "1/1 [==============================] - 0s 70ms/step\n",
      "Using LSTM\n",
      "ok\n",
      "1/1 [==============================] - 0s 62ms/step\n",
      "Using LSTM\n",
      "ok\n",
      "1/1 [==============================] - 0s 56ms/step\n",
      "Using LSTM\n",
      "ok\n",
      "1/1 [==============================] - 0s 53ms/step\n",
      "Using LSTM\n",
      "ok\n",
      "1/1 [==============================] - 0s 65ms/step\n",
      "Using LSTM\n",
      "ok\n",
      "1/1 [==============================] - 0s 64ms/step\n",
      "Using LSTM\n",
      "ok\n",
      "1/1 [==============================] - 0s 57ms/step\n",
      "Using LSTM\n",
      "ok\n",
      "1/1 [==============================] - 0s 50ms/step\n",
      "Using LSTM\n",
      "ok\n",
      "1/1 [==============================] - 0s 50ms/step\n",
      "Using LSTM\n",
      "Me\n",
      "1/1 [==============================] - 0s 56ms/step\n",
      "Using LSTM\n",
      "salute\n",
      "1/1 [==============================] - 0s 50ms/step\n",
      "Using LSTM\n",
      "Me\n",
      "1/1 [==============================] - 0s 69ms/step\n",
      "Using LSTM\n",
      "Me\n",
      "1/1 [==============================] - 0s 58ms/step\n",
      "Using LSTM\n",
      "ok\n",
      "1/1 [==============================] - 0s 58ms/step\n",
      "Using LSTM\n",
      "Me\n",
      "1/1 [==============================] - 0s 57ms/step\n",
      "Using LSTM\n",
      "Me\n",
      "1/1 [==============================] - 0s 52ms/step\n",
      "Using LSTM\n",
      "Me\n",
      "1/1 [==============================] - 0s 53ms/step\n",
      "Using LSTM\n",
      "Me\n",
      "1/1 [==============================] - 0s 47ms/step\n",
      "Using LSTM\n",
      "Me\n",
      "1/1 [==============================] - 0s 50ms/step\n",
      "Using LSTM\n",
      "Me\n",
      "1/1 [==============================] - 0s 49ms/step\n",
      "Using LSTM\n",
      "Me\n",
      "1/1 [==============================] - 0s 57ms/step\n",
      "Using LSTM\n",
      "You\n",
      "1/1 [==============================] - 0s 60ms/step\n",
      "Using LSTM\n",
      "Me\n",
      "1/1 [==============================] - 0s 61ms/step\n",
      "Using LSTM\n",
      "You\n",
      "1/1 [==============================] - 0s 54ms/step\n",
      "Using LSTM\n",
      "You\n",
      "1/1 [==============================] - 0s 63ms/step\n",
      "Using LSTM\n",
      "You\n",
      "1/1 [==============================] - 0s 57ms/step\n",
      "Using LSTM\n",
      "You\n",
      "1/1 [==============================] - 0s 51ms/step\n",
      "Using LSTM\n",
      "You\n",
      "1/1 [==============================] - 0s 52ms/step\n",
      "Using LSTM\n",
      "You\n",
      "1/1 [==============================] - 0s 66ms/step\n",
      "Using LSTM\n",
      "You\n",
      "1/1 [==============================] - 0s 58ms/step\n",
      "Using LSTM\n",
      "You\n",
      "1/1 [==============================] - 0s 62ms/step\n",
      "Using LSTM\n",
      "come\n",
      "1/1 [==============================] - 0s 52ms/step\n",
      "Using LSTM\n",
      "come\n",
      "1/1 [==============================] - 0s 67ms/step\n",
      "Using LSTM\n",
      "come\n",
      "1/1 [==============================] - 0s 63ms/step\n",
      "Using LSTM\n",
      "come\n",
      "1/1 [==============================] - 0s 61ms/step\n",
      "Using LSTM\n",
      "come\n",
      "1/1 [==============================] - 0s 57ms/step\n",
      "Using LSTM\n",
      "come\n",
      "1/1 [==============================] - 0s 70ms/step\n",
      "Using LSTM\n",
      "come\n",
      "1/1 [==============================] - 0s 62ms/step\n",
      "Using LSTM\n",
      "come\n",
      "1/1 [==============================] - 0s 51ms/step\n",
      "Using LSTM\n",
      "Namsate\n",
      "1/1 [==============================] - 0s 56ms/step\n",
      "Using LSTM\n",
      "Namsate\n",
      "1/1 [==============================] - 0s 48ms/step\n",
      "Using LSTM\n",
      "Namsate\n",
      "1/1 [==============================] - 0s 49ms/step\n",
      "Using LSTM\n",
      "Namsate\n",
      "1/1 [==============================] - 0s 54ms/step\n",
      "Using LSTM\n",
      "love you\n",
      "1/1 [==============================] - 0s 73ms/step\n",
      "Using LSTM\n",
      "love you\n",
      "1/1 [==============================] - 0s 65ms/step\n",
      "Using LSTM\n",
      "love you\n",
      "1/1 [==============================] - 0s 57ms/step\n",
      "Using LSTM\n",
      "love you\n",
      "1/1 [==============================] - 0s 59ms/step\n",
      "Using LSTM\n",
      "love you\n",
      "1/1 [==============================] - 0s 73ms/step\n",
      "Using LSTM\n",
      "love you\n",
      "1/1 [==============================] - 0s 49ms/step\n",
      "Using LSTM\n",
      "love you\n",
      "1/1 [==============================] - 0s 62ms/step\n",
      "Using LSTM\n",
      "love you\n",
      "1/1 [==============================] - 0s 54ms/step\n",
      "Using LSTM\n",
      "love you\n",
      "1/1 [==============================] - 0s 53ms/step\n",
      "Using LSTM\n",
      "love you\n",
      "1/1 [==============================] - 0s 58ms/step\n",
      "Using LSTM\n",
      "love you\n",
      "1/1 [==============================] - 0s 59ms/step\n",
      "Using LSTM\n",
      "love you\n",
      "1/1 [==============================] - 0s 49ms/step\n",
      "Using LSTM\n",
      "love you\n",
      "1/1 [==============================] - 0s 54ms/step\n",
      "Using LSTM\n",
      "love you\n"
     ]
    }
   ],
   "source": [
    "#opens camera press q to close camera\n",
    "# to see LSTM performance pass 'LSTM' to the function, to see RNN performance leave it empty or pass 'RNN'\n",
    "show_performance('LSTM')  "
   ]
  },
  {
   "cell_type": "code",
   "execution_count": 23,
   "id": "70286109",
   "metadata": {},
   "outputs": [],
   "source": [
    "vis.release()\n",
    "cv2.destroyAllWindows()"
   ]
  },
  {
   "cell_type": "code",
   "execution_count": null,
   "id": "ec30e4f9",
   "metadata": {},
   "outputs": [],
   "source": [
    "#opens camera press q to close camera\n",
    "# to see LSTM performance pass 'LSTM' to the function, to see RNN performance leave it empty or pass 'RNN'\n",
    "show_performance_with_voice()"
   ]
  },
  {
   "cell_type": "code",
   "execution_count": null,
   "id": "872f1746",
   "metadata": {},
   "outputs": [],
   "source": [
    "vis.release()\n",
    "cv2.destroyAllWindows()"
   ]
  },
  {
   "cell_type": "code",
   "execution_count": null,
   "id": "8321d256",
   "metadata": {},
   "outputs": [],
   "source": []
  }
 ],
 "metadata": {
  "kernelspec": {
   "display_name": "Python 3 (ipykernel)",
   "language": "python",
   "name": "python3"
  },
  "language_info": {
   "codemirror_mode": {
    "name": "ipython",
    "version": 3
   },
   "file_extension": ".py",
   "mimetype": "text/x-python",
   "name": "python",
   "nbconvert_exporter": "python",
   "pygments_lexer": "ipython3",
   "version": "3.11.5"
  }
 },
 "nbformat": 4,
 "nbformat_minor": 5
}
